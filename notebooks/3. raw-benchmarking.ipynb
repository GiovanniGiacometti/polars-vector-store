{
 "cells": [
  {
   "cell_type": "code",
   "execution_count": 2,
   "metadata": {},
   "outputs": [],
   "source": [
    "%load_ext autoreload"
   ]
  },
  {
   "cell_type": "code",
   "execution_count": 4,
   "metadata": {},
   "outputs": [],
   "source": [
    "%autoreload 2"
   ]
  },
  {
   "cell_type": "code",
   "execution_count": 5,
   "metadata": {},
   "outputs": [
    {
     "name": "stdout",
     "output_type": "stream",
     "text": [
      "Current folder: c:\\Users\\giova\\Desktop\\Sides\\polars-vector-store\n"
     ]
    }
   ],
   "source": [
    "import os\n",
    "\n",
    "while \"polars_vector_store\" not in os.listdir():\n",
    "    os.chdir(\"..\")\n",
    "    print(f\"Current folder: {os.getcwd()}\")"
   ]
  },
  {
   "cell_type": "markdown",
   "metadata": {},
   "source": [
    "# Imports"
   ]
  },
  {
   "cell_type": "code",
   "execution_count": 6,
   "metadata": {},
   "outputs": [],
   "source": [
    "import polars as pl\n",
    "import numpy as np\n",
    "from dotenv import load_dotenv\n",
    "from datetime import datetime\n",
    "import requests\n",
    "from polars_vector_store.loader.parquet import ParquetLoader"
   ]
  },
  {
   "cell_type": "code",
   "execution_count": 7,
   "metadata": {},
   "outputs": [],
   "source": [
    "load_dotenv()\n",
    "\n",
    "OPENAI_API_KEY = os.getenv(\"OPENAI_API_KEY\")\n",
    "url = \"https://api.openai.com/v1/embeddings\""
   ]
  },
  {
   "cell_type": "code",
   "execution_count": 8,
   "metadata": {},
   "outputs": [],
   "source": [
    "def compute_embeddings(\n",
    "    texts: str | list[str],\n",
    "    open_ai_model: str = \"text-embedding-3-small\",\n",
    "    normalize: bool = True,\n",
    ") -> np.ndarray:\n",
    "    \"\"\"\n",
    "    Compute embeddings for a list of texts.\n",
    "\n",
    "    Returns a numpy array of embeddings of shape\n",
    "    (len(texts), embedding_size).\n",
    "    \"\"\"\n",
    "\n",
    "    if isinstance(texts, str):\n",
    "        texts = [texts]\n",
    "\n",
    "    headers = {\n",
    "        \"Authorization\": f\"Bearer {OPENAI_API_KEY}\",\n",
    "        \"Content-Type\": \"application/json\",\n",
    "    }\n",
    "\n",
    "    payload = {\n",
    "        \"input\": texts,\n",
    "        \"model\": open_ai_model,\n",
    "        \"encoding_format\": \"float\",\n",
    "    }\n",
    "\n",
    "    # Make the POST request\n",
    "    json_response = requests.post(url, headers=headers, json=payload).json()\n",
    "\n",
    "    # Extract the embeddings\n",
    "\n",
    "    embeddings = np.array(\n",
    "        [embedding_json[\"embedding\"] for embedding_json in json_response[\"data\"]]\n",
    "    )\n",
    "\n",
    "    if normalize:\n",
    "        embeddings = embeddings / np.linalg.norm(embeddings, axis=1, keepdims=True)\n",
    "\n",
    "    return embeddings"
   ]
  },
  {
   "cell_type": "markdown",
   "metadata": {},
   "source": [
    "# Load Data"
   ]
  },
  {
   "cell_type": "code",
   "execution_count": 9,
   "metadata": {},
   "outputs": [],
   "source": [
    "DATA_FOLDER = \"data\"\n",
    "DATASET_NAME = \"hacker_news\"\n",
    "FILE_NAME = f\"{DATA_FOLDER}/{DATASET_NAME}.parquet\""
   ]
  },
  {
   "cell_type": "code",
   "execution_count": 10,
   "metadata": {},
   "outputs": [],
   "source": [
    "df = pl.scan_parquet(FILE_NAME)"
   ]
  },
  {
   "cell_type": "code",
   "execution_count": 11,
   "metadata": {},
   "outputs": [],
   "source": [
    "materialized_df = df.collect()"
   ]
  },
  {
   "cell_type": "code",
   "execution_count": 12,
   "metadata": {},
   "outputs": [
    {
     "data": {
      "text/plain": [
       "(28544, 5)"
      ]
     },
     "execution_count": 12,
     "metadata": {},
     "output_type": "execute_result"
    }
   ],
   "source": [
    "materialized_df.shape"
   ]
  },
  {
   "cell_type": "code",
   "execution_count": 13,
   "metadata": {},
   "outputs": [
    {
     "data": {
      "text/html": [
       "<div><style>\n",
       ".dataframe > thead > tr,\n",
       ".dataframe > tbody > tr {\n",
       "  text-align: right;\n",
       "  white-space: pre-wrap;\n",
       "}\n",
       "</style>\n",
       "<small>shape: (5, 5)</small><table border=\"1\" class=\"dataframe\"><thead><tr><th>id</th><th>time</th><th>title</th><th>url</th><th>embedding</th></tr><tr><td>str</td><td>i32</td><td>str</td><td>str</td><td>array[f64, 1536]</td></tr></thead><tbody><tr><td>&quot;35515614&quot;</td><td>1681151391</td><td>&quot;Text-Based Tetris&quot;</td><td>&quot;https://aino.agency/game&quot;</td><td>[-0.041159, 0.038379, … 0.001997]</td></tr><tr><td>&quot;35680911&quot;</td><td>1682285922</td><td>&quot;Will the Internet Democratize …</td><td>&quot;https://www.nytimes.com/2023/0…</td><td>[0.020964, -0.022481, … -0.008165]</td></tr><tr><td>&quot;35806111&quot;</td><td>1683139428</td><td>&quot;ChatGPT can now find you a hou…</td><td>&quot;https://www.theverge.com/2023/…</td><td>[-0.03301, 0.025399, … -0.000259]</td></tr><tr><td>&quot;35908618&quot;</td><td>1683840510</td><td>&quot;Capsule captures first look in…</td><td>&quot;https://www.ucdavis.edu/news/c…</td><td>[-0.004219, 0.024209, … -0.011713]</td></tr><tr><td>&quot;35911041&quot;</td><td>1683857335</td><td>&quot;Long popular in Asia, floating…</td><td>&quot;https://apnews.com/article/flo…</td><td>[-0.0095, 0.006706, … -0.000616]</td></tr></tbody></table></div>"
      ],
      "text/plain": [
       "shape: (5, 5)\n",
       "┌──────────┬────────────┬────────────────────────┬────────────────────────┬────────────────────────┐\n",
       "│ id       ┆ time       ┆ title                  ┆ url                    ┆ embedding              │\n",
       "│ ---      ┆ ---        ┆ ---                    ┆ ---                    ┆ ---                    │\n",
       "│ str      ┆ i32        ┆ str                    ┆ str                    ┆ array[f64, 1536]       │\n",
       "╞══════════╪════════════╪════════════════════════╪════════════════════════╪════════════════════════╡\n",
       "│ 35515614 ┆ 1681151391 ┆ Text-Based Tetris      ┆ https://aino.agency/ga ┆ [-0.041159, 0.038379,  │\n",
       "│          ┆            ┆                        ┆ me                     ┆ … 0.0019…              │\n",
       "│ 35680911 ┆ 1682285922 ┆ Will the Internet      ┆ https://www.nytimes.co ┆ [0.020964, -0.022481,  │\n",
       "│          ┆            ┆ Democratize …          ┆ m/2023/0…              ┆ … -0.008…              │\n",
       "│ 35806111 ┆ 1683139428 ┆ ChatGPT can now find   ┆ https://www.theverge.c ┆ [-0.03301, 0.025399, … │\n",
       "│          ┆            ┆ you a hou…             ┆ om/2023/…              ┆ -0.0002…               │\n",
       "│ 35908618 ┆ 1683840510 ┆ Capsule captures first ┆ https://www.ucdavis.ed ┆ [-0.004219, 0.024209,  │\n",
       "│          ┆            ┆ look in…               ┆ u/news/c…              ┆ … -0.011…              │\n",
       "│ 35911041 ┆ 1683857335 ┆ Long popular in Asia,  ┆ https://apnews.com/art ┆ [-0.0095, 0.006706, …  │\n",
       "│          ┆            ┆ floating…              ┆ icle/flo…              ┆ -0.00061…              │\n",
       "└──────────┴────────────┴────────────────────────┴────────────────────────┴────────────────────────┘"
      ]
     },
     "execution_count": 13,
     "metadata": {},
     "output_type": "execute_result"
    }
   ],
   "source": [
    "df.head().collect()"
   ]
  },
  {
   "cell_type": "code",
   "execution_count": 14,
   "metadata": {},
   "outputs": [],
   "source": [
    "query = \"Python\"\n",
    "query_embedding = compute_embeddings(query)"
   ]
  },
  {
   "cell_type": "markdown",
   "metadata": {},
   "source": [
    "# ChromaDB"
   ]
  },
  {
   "cell_type": "code",
   "execution_count": 15,
   "metadata": {},
   "outputs": [],
   "source": [
    "from polars_vector_store.chroma import ChromaDB"
   ]
  },
  {
   "cell_type": "code",
   "execution_count": 16,
   "metadata": {},
   "outputs": [],
   "source": [
    "parquet_loader = ParquetLoader(\n",
    "    path_to_file=FILE_NAME,\n",
    "    id_column_name=\"id\",\n",
    "    text_column_name=\"title\",\n",
    "    embedding_column_name=\"embedding\",\n",
    "    metadata_columns_names=[\"url\", \"time\"],\n",
    ")"
   ]
  },
  {
   "cell_type": "code",
   "execution_count": 17,
   "metadata": {},
   "outputs": [],
   "source": [
    "chroma = ChromaDB()  # can just do this if data is already loaded in memory"
   ]
  },
  {
   "cell_type": "code",
   "execution_count": 18,
   "metadata": {},
   "outputs": [
    {
     "name": "stdout",
     "output_type": "stream",
     "text": [
      "3.84 ms ± 411 μs per loop (mean ± std. dev. of 7 runs, 1 loop each)\n"
     ]
    }
   ],
   "source": [
    "%%timeit\n",
    "\n",
    "chroma.similarity_search_by_vector(\n",
    "    query_embedding,\n",
    "    k=3,\n",
    ")"
   ]
  },
  {
   "cell_type": "code",
   "execution_count": 19,
   "metadata": {},
   "outputs": [
    {
     "name": "stdout",
     "output_type": "stream",
     "text": [
      "200 ms ± 29.2 ms per loop (mean ± std. dev. of 7 runs, 1 loop each)\n"
     ]
    }
   ],
   "source": [
    "%%timeit\n",
    "\n",
    "chroma.similarity_search_by_vector(\n",
    "    query_embedding,\n",
    "    k=3,\n",
    "    filters={\n",
    "        \"time\": {\"$gt\": datetime.strptime(\"2023-05-01\", \"%Y-%m-%d\").timestamp()},\n",
    "    },\n",
    ")"
   ]
  },
  {
   "cell_type": "markdown",
   "metadata": {},
   "source": [
    "---"
   ]
  },
  {
   "cell_type": "markdown",
   "metadata": {},
   "source": [
    "# Polars - Numpy Based"
   ]
  },
  {
   "cell_type": "code",
   "execution_count": 23,
   "metadata": {},
   "outputs": [],
   "source": [
    "from polars_vector_store.polars.numpy_based import NumpyBasedPolarsVectorStore"
   ]
  },
  {
   "cell_type": "code",
   "execution_count": 24,
   "metadata": {},
   "outputs": [],
   "source": [
    "polars_numpy_vs = NumpyBasedPolarsVectorStore.from_parquet(parquet_loader)"
   ]
  },
  {
   "cell_type": "code",
   "execution_count": 25,
   "metadata": {},
   "outputs": [
    {
     "data": {
      "text/plain": [
       "<polars_vector_store.polars.numpy_based.NumpyBasedPolarsVectorStore at 0x2391c0c4ce0>"
      ]
     },
     "execution_count": 25,
     "metadata": {},
     "output_type": "execute_result"
    }
   ],
   "source": [
    "polars_numpy_vs\n"
   ]
  },
  {
   "cell_type": "markdown",
   "metadata": {},
   "source": [
    "DB is not materialized"
   ]
  },
  {
   "cell_type": "code",
   "execution_count": null,
   "metadata": {},
   "outputs": [
    {
     "name": "stdout",
     "output_type": "stream",
     "text": [
      "1.84 s ± 162 ms per loop (mean ± std. dev. of 7 runs, 1 loop each)\n"
     ]
    }
   ],
   "source": [
    "%%timeit\n",
    "\n",
    "polars_numpy_vs.similarity_search_by_vector(\n",
    "    query_embedding,\n",
    "    k=3,\n",
    ")"
   ]
  },
  {
   "cell_type": "code",
   "execution_count": null,
   "metadata": {},
   "outputs": [
    {
     "name": "stdout",
     "output_type": "stream",
     "text": [
      "1.98 s ± 89.2 ms per loop (mean ± std. dev. of 7 runs, 1 loop each)\n"
     ]
    }
   ],
   "source": [
    "%%timeit\n",
    "\n",
    "polars_numpy_vs.similarity_search_by_vector(\n",
    "    query_embedding,\n",
    "    k=3,\n",
    "    filter=pl.col(\"time\") >= datetime.strptime(\"2023-05-01\", \"%Y-%m-%d\").timestamp(),\n",
    ")"
   ]
  },
  {
   "cell_type": "markdown",
   "metadata": {},
   "source": [
    "Give materialized db"
   ]
  },
  {
   "cell_type": "code",
   "execution_count": null,
   "metadata": {},
   "outputs": [],
   "source": [
    "parquet_loader_with_db = ParquetLoader(\n",
    "    path_to_file=FILE_NAME,\n",
    "    id_column_name=\"id\",\n",
    "    text_column_name=\"title\",\n",
    "    embedding_column_name=\"embedding\",\n",
    "    metadata_columns_names=[\"url\", \"time\"],\n",
    ")\n",
    "parquet_loader_with_db.materialized_df = materialized_df\n",
    "\n",
    "polars_numpy_vs_with_materialized_db = NumpyBasedPolarsVectorStore.from_parquet(\n",
    "    parquet_loader_with_db\n",
    ")"
   ]
  },
  {
   "cell_type": "code",
   "execution_count": null,
   "metadata": {},
   "outputs": [
    {
     "name": "stdout",
     "output_type": "stream",
     "text": [
      "60.7 ms ± 6.33 ms per loop (mean ± std. dev. of 7 runs, 10 loops each)\n"
     ]
    }
   ],
   "source": [
    "%%timeit\n",
    "\n",
    "polars_numpy_vs_with_materialized_db.similarity_search_by_vector(\n",
    "    query_embedding,\n",
    "    k=3,\n",
    ")"
   ]
  },
  {
   "cell_type": "code",
   "execution_count": null,
   "metadata": {},
   "outputs": [
    {
     "name": "stdout",
     "output_type": "stream",
     "text": [
      "65.3 ms ± 4.56 ms per loop (mean ± std. dev. of 7 runs, 10 loops each)\n"
     ]
    }
   ],
   "source": [
    "%%timeit\n",
    "\n",
    "polars_numpy_vs_with_materialized_db.similarity_search_by_vector(\n",
    "    query_embedding,\n",
    "    k=3,\n",
    "    filter=pl.col(\"time\") >= datetime.strptime(\"2023-05-01\", \"%Y-%m-%d\").timestamp(),\n",
    ")"
   ]
  },
  {
   "cell_type": "markdown",
   "metadata": {},
   "source": [
    "# Polars TopK"
   ]
  },
  {
   "cell_type": "code",
   "execution_count": 26,
   "metadata": {},
   "outputs": [],
   "source": [
    "from polars_vector_store.polars.polars_top_k import PolarsTopKVectorStore"
   ]
  },
  {
   "cell_type": "code",
   "execution_count": 27,
   "metadata": {},
   "outputs": [],
   "source": [
    "parquet_loader = ParquetLoader(\n",
    "    path_to_file=FILE_NAME,\n",
    "    id_column_name=\"id\",\n",
    "    text_column_name=\"title\",\n",
    "    embedding_column_name=\"embedding\",\n",
    "    metadata_columns_names=[\"url\", \"time\"],\n",
    ")"
   ]
  },
  {
   "cell_type": "code",
   "execution_count": 28,
   "metadata": {},
   "outputs": [],
   "source": [
    "polars_top_k = PolarsTopKVectorStore.from_parquet(parquet_loader)"
   ]
  },
  {
   "cell_type": "code",
   "execution_count": null,
   "metadata": {},
   "outputs": [
    {
     "name": "stdout",
     "output_type": "stream",
     "text": [
      "1.77 s ± 533 ms per loop (mean ± std. dev. of 7 runs, 1 loop each)\n"
     ]
    }
   ],
   "source": [
    "%%timeit\n",
    "\n",
    "polars_top_k.similarity_search_by_vector(\n",
    "    query_embedding,\n",
    "    k=3,\n",
    ")"
   ]
  },
  {
   "cell_type": "code",
   "execution_count": null,
   "metadata": {},
   "outputs": [
    {
     "name": "stdout",
     "output_type": "stream",
     "text": [
      "1.35 s ± 91.8 ms per loop (mean ± std. dev. of 7 runs, 1 loop each)\n"
     ]
    }
   ],
   "source": [
    "%%timeit\n",
    "\n",
    "polars_top_k.similarity_search_by_vector(\n",
    "    query_embedding,\n",
    "    k=3,\n",
    "    filters=pl.col(\"time\") >= datetime.strptime(\"2023-05-01\", \"%Y-%m-%d\").timestamp(),\n",
    ")"
   ]
  },
  {
   "cell_type": "markdown",
   "metadata": {},
   "source": [
    "# Polars Arg Partition"
   ]
  },
  {
   "cell_type": "code",
   "execution_count": null,
   "metadata": {},
   "outputs": [],
   "source": [
    "from polars_vector_store.polars.polars_argpartition import (\n",
    "    PolarsArgPartitionVectorStore,\n",
    ")"
   ]
  },
  {
   "cell_type": "code",
   "execution_count": null,
   "metadata": {},
   "outputs": [],
   "source": [
    "parquet_loader = ParquetLoader(\n",
    "    path_to_file=FILE_NAME,\n",
    "    id_column_name=\"id\",\n",
    "    text_column_name=\"title\",\n",
    "    embedding_column_name=\"embedding\",\n",
    "    metadata_columns_names=[\"url\", \"time\"],\n",
    ")"
   ]
  },
  {
   "cell_type": "code",
   "execution_count": null,
   "metadata": {},
   "outputs": [],
   "source": [
    "polars_arg_part = PolarsArgPartitionVectorStore.from_parquet(parquet_loader)"
   ]
  },
  {
   "cell_type": "code",
   "execution_count": null,
   "metadata": {},
   "outputs": [
    {
     "name": "stdout",
     "output_type": "stream",
     "text": [
      "1.29 s ± 45.8 ms per loop (mean ± std. dev. of 7 runs, 1 loop each)\n"
     ]
    }
   ],
   "source": [
    "%%timeit\n",
    "\n",
    "polars_arg_part.similarity_search_by_vector(\n",
    "    query_embedding,\n",
    "    k=3,\n",
    ")"
   ]
  },
  {
   "cell_type": "code",
   "execution_count": null,
   "metadata": {},
   "outputs": [
    {
     "name": "stdout",
     "output_type": "stream",
     "text": [
      "1.31 s ± 52.9 ms per loop (mean ± std. dev. of 7 runs, 1 loop each)\n"
     ]
    }
   ],
   "source": [
    "%%timeit\n",
    "\n",
    "polars_arg_part.similarity_search_by_vector(\n",
    "    query_embedding,\n",
    "    k=3,\n",
    "    filters=pl.col(\"time\") >= datetime.strptime(\"2023-05-01\", \"%Y-%m-%d\").timestamp(),\n",
    ")"
   ]
  }
 ],
 "metadata": {
  "kernelspec": {
   "display_name": ".venv",
   "language": "python",
   "name": "python3"
  },
  "language_info": {
   "codemirror_mode": {
    "name": "ipython",
    "version": 3
   },
   "file_extension": ".py",
   "mimetype": "text/x-python",
   "name": "python",
   "nbconvert_exporter": "python",
   "pygments_lexer": "ipython3",
   "version": "3.12.7"
  }
 },
 "nbformat": 4,
 "nbformat_minor": 2
}
