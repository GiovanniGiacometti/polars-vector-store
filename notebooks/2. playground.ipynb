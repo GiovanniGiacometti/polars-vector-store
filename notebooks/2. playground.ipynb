{
 "cells": [
  {
   "cell_type": "code",
   "execution_count": 1,
   "metadata": {},
   "outputs": [
    {
     "name": "stdout",
     "output_type": "stream",
     "text": [
      "Current folder: c:\\Users\\giova\\Desktop\\MLCube\\Repositories\\ml3\\rag-with-polars\n"
     ]
    }
   ],
   "source": [
    "import os\n",
    "\n",
    "while \"src\" not in os.listdir():\n",
    "    os.chdir(\"..\")\n",
    "    print(f\"Current folder: {os.getcwd()}\")"
   ]
  },
  {
   "cell_type": "markdown",
   "metadata": {},
   "source": [
    "# Imports"
   ]
  },
  {
   "cell_type": "code",
   "execution_count": 2,
   "metadata": {},
   "outputs": [],
   "source": [
    "import polars as pl\n",
    "import numpy as np\n",
    "from dotenv import load_dotenv\n",
    "import requests"
   ]
  },
  {
   "cell_type": "code",
   "execution_count": 3,
   "metadata": {},
   "outputs": [],
   "source": [
    "load_dotenv()\n",
    "\n",
    "OPENAI_API_KEY = os.getenv(\"OPENAI_API_KEY\")\n",
    "url = \"https://api.openai.com/v1/embeddings\""
   ]
  },
  {
   "cell_type": "code",
   "execution_count": 4,
   "metadata": {},
   "outputs": [],
   "source": [
    "def compute_embeddings(\n",
    "    texts: str | list[str],\n",
    "    open_ai_model: str = \"text-embedding-3-small\",\n",
    "    normalize: bool = True,\n",
    ") -> np.ndarray:\n",
    "    \"\"\"\n",
    "    Compute embeddings for a list of texts.\n",
    "\n",
    "    Returns a numpy array of embeddings of shape\n",
    "    (len(texts), embedding_size).\n",
    "    \"\"\"\n",
    "\n",
    "    if isinstance(texts, str):\n",
    "        texts = [texts]\n",
    "\n",
    "    headers = {\n",
    "        \"Authorization\": f\"Bearer {OPENAI_API_KEY}\",\n",
    "        \"Content-Type\": \"application/json\",\n",
    "    }\n",
    "\n",
    "    payload = {\n",
    "        \"input\": texts,\n",
    "        \"model\": open_ai_model,\n",
    "        \"encoding_format\": \"float\",\n",
    "    }\n",
    "\n",
    "    # Make the POST request\n",
    "    json_response = requests.post(url, headers=headers, json=payload).json()\n",
    "\n",
    "    # Extract the embeddings\n",
    "\n",
    "    embeddings = np.array(\n",
    "        [embedding_json[\"embedding\"] for embedding_json in json_response[\"data\"]]\n",
    "    )\n",
    "\n",
    "    if normalize:\n",
    "        embeddings = embeddings / np.linalg.norm(embeddings, axis=1, keepdims=True)\n",
    "\n",
    "    return embeddings"
   ]
  },
  {
   "cell_type": "markdown",
   "metadata": {},
   "source": [
    "# Load Data"
   ]
  },
  {
   "cell_type": "code",
   "execution_count": 5,
   "metadata": {},
   "outputs": [],
   "source": [
    "DATA_FOLDER = \"data\"\n",
    "DATASET_NAME = \"hacker_news\"\n",
    "FILE_NAME = f\"{DATA_FOLDER}/{DATASET_NAME}.parquet\""
   ]
  },
  {
   "cell_type": "code",
   "execution_count": 6,
   "metadata": {},
   "outputs": [],
   "source": [
    "df = pl.scan_parquet(FILE_NAME)"
   ]
  },
  {
   "cell_type": "code",
   "execution_count": 7,
   "metadata": {},
   "outputs": [],
   "source": [
    "materialized_df = df.collect()"
   ]
  },
  {
   "cell_type": "code",
   "execution_count": 8,
   "metadata": {},
   "outputs": [
    {
     "data": {
      "text/plain": [
       "(28544, 5)"
      ]
     },
     "execution_count": 8,
     "metadata": {},
     "output_type": "execute_result"
    }
   ],
   "source": [
    "materialized_df.shape"
   ]
  },
  {
   "cell_type": "code",
   "execution_count": 9,
   "metadata": {},
   "outputs": [
    {
     "data": {
      "text/html": [
       "<div><style>\n",
       ".dataframe > thead > tr,\n",
       ".dataframe > tbody > tr {\n",
       "  text-align: right;\n",
       "  white-space: pre-wrap;\n",
       "}\n",
       "</style>\n",
       "<small>shape: (5, 5)</small><table border=\"1\" class=\"dataframe\"><thead><tr><th>id</th><th>time</th><th>title</th><th>url</th><th>embedding</th></tr><tr><td>i32</td><td>i32</td><td>str</td><td>str</td><td>array[f64, 1536]</td></tr></thead><tbody><tr><td>35515614</td><td>1681151391</td><td>&quot;Text-Based Tetris&quot;</td><td>&quot;https://aino.agency/game&quot;</td><td>[-0.041159, 0.038379, … 0.001997]</td></tr><tr><td>35680911</td><td>1682285922</td><td>&quot;Will the Internet Democratize …</td><td>&quot;https://www.nytimes.com/2023/0…</td><td>[0.020964, -0.022481, … -0.008165]</td></tr><tr><td>35806111</td><td>1683139428</td><td>&quot;ChatGPT can now find you a hou…</td><td>&quot;https://www.theverge.com/2023/…</td><td>[-0.03301, 0.025399, … -0.000259]</td></tr><tr><td>35908618</td><td>1683840510</td><td>&quot;Capsule captures first look in…</td><td>&quot;https://www.ucdavis.edu/news/c…</td><td>[-0.004219, 0.024209, … -0.011713]</td></tr><tr><td>35911041</td><td>1683857335</td><td>&quot;Long popular in Asia, floating…</td><td>&quot;https://apnews.com/article/flo…</td><td>[-0.0095, 0.006706, … -0.000616]</td></tr></tbody></table></div>"
      ],
      "text/plain": [
       "shape: (5, 5)\n",
       "┌──────────┬────────────┬────────────────────────┬────────────────────────┬────────────────────────┐\n",
       "│ id       ┆ time       ┆ title                  ┆ url                    ┆ embedding              │\n",
       "│ ---      ┆ ---        ┆ ---                    ┆ ---                    ┆ ---                    │\n",
       "│ i32      ┆ i32        ┆ str                    ┆ str                    ┆ array[f64, 1536]       │\n",
       "╞══════════╪════════════╪════════════════════════╪════════════════════════╪════════════════════════╡\n",
       "│ 35515614 ┆ 1681151391 ┆ Text-Based Tetris      ┆ https://aino.agency/ga ┆ [-0.041159, 0.038379,  │\n",
       "│          ┆            ┆                        ┆ me                     ┆ … 0.0019…              │\n",
       "│ 35680911 ┆ 1682285922 ┆ Will the Internet      ┆ https://www.nytimes.co ┆ [0.020964, -0.022481,  │\n",
       "│          ┆            ┆ Democratize …          ┆ m/2023/0…              ┆ … -0.008…              │\n",
       "│ 35806111 ┆ 1683139428 ┆ ChatGPT can now find   ┆ https://www.theverge.c ┆ [-0.03301, 0.025399, … │\n",
       "│          ┆            ┆ you a hou…             ┆ om/2023/…              ┆ -0.0002…               │\n",
       "│ 35908618 ┆ 1683840510 ┆ Capsule captures first ┆ https://www.ucdavis.ed ┆ [-0.004219, 0.024209,  │\n",
       "│          ┆            ┆ look in…               ┆ u/news/c…              ┆ … -0.011…              │\n",
       "│ 35911041 ┆ 1683857335 ┆ Long popular in Asia,  ┆ https://apnews.com/art ┆ [-0.0095, 0.006706, …  │\n",
       "│          ┆            ┆ floating…              ┆ icle/flo…              ┆ -0.00061…              │\n",
       "└──────────┴────────────┴────────────────────────┴────────────────────────┴────────────────────────┘"
      ]
     },
     "execution_count": 9,
     "metadata": {},
     "output_type": "execute_result"
    }
   ],
   "source": [
    "df.head().collect()"
   ]
  },
  {
   "cell_type": "markdown",
   "metadata": {},
   "source": [
    "df is our vector store. It has an id, the title, the url of the post, the time it was published and the embedding"
   ]
  },
  {
   "cell_type": "code",
   "execution_count": 10,
   "metadata": {},
   "outputs": [],
   "source": [
    "query = \"Python\"\n",
    "query_embedding = compute_embeddings(query)"
   ]
  },
  {
   "cell_type": "markdown",
   "metadata": {},
   "source": [
    "### Method 1\n",
    "\n",
    "Inspired by the blog post. Materialize dataframe, get embedding column, and convert to numpy array and compute cosine similarity with efficient\n",
    "numpy tricks."
   ]
  },
  {
   "cell_type": "code",
   "execution_count": 11,
   "metadata": {},
   "outputs": [],
   "source": [
    "def get_closest_1(\n",
    "    lazy_vector_store: pl.LazyFrame,\n",
    "    query_embed: np.ndarray,\n",
    "    materialized_vector_store: pl.DataFrame | None = None,\n",
    "    k: int = 3,\n",
    ") -> pl.DataFrame:\n",
    "    \"\"\"\n",
    "    First method: extract embeddings column and compute\n",
    "    cosine similarity with the query embedding.\n",
    "\n",
    "    Returns the k rows with the smallest cosine similarity.\n",
    "\n",
    "    The performance of this method is heavily impacted by having\n",
    "    to materialize the dataframe. We keep that as an argument\n",
    "    so that we can test its impact.\n",
    "    Nonetheless assuming to having it already materialized is not\n",
    "    optimal since in a real-world scenario the embeddings could be\n",
    "    very large (thus not fitting in memory) or we might want to load\n",
    "    them \"on-demand\" (rather than having them always in memory).\n",
    "    \"\"\"\n",
    "\n",
    "    # We need to materialize in order to access the embeddings column\n",
    "    if materialized_vector_store is None:\n",
    "        materialized_vector_store = lazy_vector_store.select([\"embedding\"]).collect()\n",
    "\n",
    "    vector_store_embeds = materialized_vector_store[\"embedding\"].to_numpy()\n",
    "\n",
    "    # Compute cosine similarity.\n",
    "    # Since the embeddings are normalized, this is equivalent to the dot product.\n",
    "    cosine_similarities = np.einsum(\"ij,ij->i\", vector_store_embeds, query_embed)\n",
    "\n",
    "    # Get the indices of the k smallest cosine similarities\n",
    "    # Notice that argpartition gives no guarantee on the order\n",
    "    # of the k smallest elements, which is why we need\n",
    "    # an extra sorting step after the partitioning.\n",
    "    closest_indices = np.argpartition(cosine_similarities, -k)[-k:]\n",
    "\n",
    "    # Sort the k closest indices by cosine similarity\n",
    "    idx = closest_indices[np.argsort(cosine_similarities[closest_indices])[::-1]]\n",
    "\n",
    "    return (\n",
    "        lazy_vector_store.with_row_index()\n",
    "        .filter(pl.col(\"index\").is_in(idx))\n",
    "        .select([\"id\", \"title\", \"url\", \"time\"])\n",
    "        .collect()\n",
    "    )"
   ]
  },
  {
   "cell_type": "code",
   "execution_count": 12,
   "metadata": {},
   "outputs": [
    {
     "data": {
      "text/html": [
       "<div><style>\n",
       ".dataframe > thead > tr,\n",
       ".dataframe > tbody > tr {\n",
       "  text-align: right;\n",
       "  white-space: pre-wrap;\n",
       "}\n",
       "</style>\n",
       "<small>shape: (3, 4)</small><table border=\"1\" class=\"dataframe\"><thead><tr><th>id</th><th>title</th><th>url</th><th>time</th></tr><tr><td>i32</td><td>str</td><td>str</td><td>i32</td></tr></thead><tbody><tr><td>35421096</td><td>&quot;Think Python 2e&quot;</td><td>&quot;https://greenteapress.com/wp/t…</td><td>1680517178</td></tr><tr><td>35465484</td><td>&quot;Python Programming Exercises G…</td><td>&quot;https://inventwithpython.com/p…</td><td>1680767014</td></tr><tr><td>35820038</td><td>&quot;Python How Tos&quot;</td><td>&quot;https://docs.python.org/3/howt…</td><td>1683225151</td></tr></tbody></table></div>"
      ],
      "text/plain": [
       "shape: (3, 4)\n",
       "┌──────────┬─────────────────────────────────┬─────────────────────────────────┬────────────┐\n",
       "│ id       ┆ title                           ┆ url                             ┆ time       │\n",
       "│ ---      ┆ ---                             ┆ ---                             ┆ ---        │\n",
       "│ i32      ┆ str                             ┆ str                             ┆ i32        │\n",
       "╞══════════╪═════════════════════════════════╪═════════════════════════════════╪════════════╡\n",
       "│ 35421096 ┆ Think Python 2e                 ┆ https://greenteapress.com/wp/t… ┆ 1680517178 │\n",
       "│ 35465484 ┆ Python Programming Exercises G… ┆ https://inventwithpython.com/p… ┆ 1680767014 │\n",
       "│ 35820038 ┆ Python How Tos                  ┆ https://docs.python.org/3/howt… ┆ 1683225151 │\n",
       "└──────────┴─────────────────────────────────┴─────────────────────────────────┴────────────┘"
      ]
     },
     "execution_count": 12,
     "metadata": {},
     "output_type": "execute_result"
    }
   ],
   "source": [
    "get_closest_1(lazy_vector_store=df, query_embed=query_embedding, k=3)"
   ]
  },
  {
   "cell_type": "code",
   "execution_count": 13,
   "metadata": {},
   "outputs": [
    {
     "data": {
      "text/html": [
       "<div><style>\n",
       ".dataframe > thead > tr,\n",
       ".dataframe > tbody > tr {\n",
       "  text-align: right;\n",
       "  white-space: pre-wrap;\n",
       "}\n",
       "</style>\n",
       "<small>shape: (3, 4)</small><table border=\"1\" class=\"dataframe\"><thead><tr><th>id</th><th>title</th><th>url</th><th>time</th></tr><tr><td>i32</td><td>str</td><td>str</td><td>i32</td></tr></thead><tbody><tr><td>35421096</td><td>&quot;Think Python 2e&quot;</td><td>&quot;https://greenteapress.com/wp/t…</td><td>1680517178</td></tr><tr><td>35465484</td><td>&quot;Python Programming Exercises G…</td><td>&quot;https://inventwithpython.com/p…</td><td>1680767014</td></tr><tr><td>35820038</td><td>&quot;Python How Tos&quot;</td><td>&quot;https://docs.python.org/3/howt…</td><td>1683225151</td></tr></tbody></table></div>"
      ],
      "text/plain": [
       "shape: (3, 4)\n",
       "┌──────────┬─────────────────────────────────┬─────────────────────────────────┬────────────┐\n",
       "│ id       ┆ title                           ┆ url                             ┆ time       │\n",
       "│ ---      ┆ ---                             ┆ ---                             ┆ ---        │\n",
       "│ i32      ┆ str                             ┆ str                             ┆ i32        │\n",
       "╞══════════╪═════════════════════════════════╪═════════════════════════════════╪════════════╡\n",
       "│ 35421096 ┆ Think Python 2e                 ┆ https://greenteapress.com/wp/t… ┆ 1680517178 │\n",
       "│ 35465484 ┆ Python Programming Exercises G… ┆ https://inventwithpython.com/p… ┆ 1680767014 │\n",
       "│ 35820038 ┆ Python How Tos                  ┆ https://docs.python.org/3/howt… ┆ 1683225151 │\n",
       "└──────────┴─────────────────────────────────┴─────────────────────────────────┴────────────┘"
      ]
     },
     "execution_count": 13,
     "metadata": {},
     "output_type": "execute_result"
    }
   ],
   "source": [
    "get_closest_1(\n",
    "    lazy_vector_store=df,   \n",
    "    query_embed=query_embedding,\n",
    "    k=3,\n",
    "    materialized_vector_store=materialized_df,\n",
    ")"
   ]
  },
  {
   "cell_type": "code",
   "execution_count": 14,
   "metadata": {},
   "outputs": [
    {
     "name": "stdout",
     "output_type": "stream",
     "text": [
      "1.08 s ± 66.6 ms per loop (mean ± std. dev. of 7 runs, 1 loop each)\n"
     ]
    }
   ],
   "source": [
    "%%timeit\n",
    "\n",
    "get_closest_1(lazy_vector_store=df, query_embed=query_embedding, k=3)"
   ]
  },
  {
   "cell_type": "code",
   "execution_count": 15,
   "metadata": {},
   "outputs": [
    {
     "name": "stdout",
     "output_type": "stream",
     "text": [
      "36.1 ms ± 2.18 ms per loop (mean ± std. dev. of 7 runs, 10 loops each)\n"
     ]
    }
   ],
   "source": [
    "%%timeit\n",
    "\n",
    "get_closest_1(\n",
    "    lazy_vector_store=df,\n",
    "    query_embed=query_embedding,\n",
    "    k=3,\n",
    "    materialized_vector_store=materialized_df,\n",
    ")"
   ]
  },
  {
   "cell_type": "markdown",
   "metadata": {},
   "source": [
    "### Method 2\n",
    "\n"
   ]
  },
  {
   "cell_type": "code",
   "execution_count": 16,
   "metadata": {},
   "outputs": [],
   "source": [
    "def get_closest_2(\n",
    "    lazy_vector_store: pl.LazyFrame,\n",
    "    query_embed: np.ndarray,  # noqa\n",
    "    materialized_vector_store: pl.DataFrame | None = None,  # noqa\n",
    "    k: int = 3,\n",
    ") -> pl.DataFrame:\n",
    "    \"\"\" \"\"\"\n",
    "\n",
    "    return (\n",
    "        lazy_vector_store.with_columns(\n",
    "            query=pl.lit(query_embed.reshape(-1).tolist()).cast(\n",
    "                pl.Array(pl.Float64, shape=query_embed.shape[1])\n",
    "            ),\n",
    "        )\n",
    "        .with_columns(\n",
    "            sim=np.dot(\n",
    "                pl.col(\"embedding\"),\n",
    "                pl.col(\"query\"),\n",
    "            ).arr.sum()\n",
    "        )\n",
    "        .top_k(k, by=\"sim\")\n",
    "        .select([\"id\", \"title\", \"url\", \"time\"])\n",
    "        .collect()\n",
    "    )"
   ]
  },
  {
   "cell_type": "code",
   "execution_count": 17,
   "metadata": {},
   "outputs": [],
   "source": [
    "# def get_closest_2_v2(\n",
    "#     lazy_vector_store: pl.LazyFrame,\n",
    "#     query_embed: np.ndarray,  # noqa\n",
    "#     materialized_vector_store: pl.DataFrame | None = None,  # noqa\n",
    "#     k: int = 3,\n",
    "# ) -> pl.DataFrame:\n",
    "#     \"\"\" \"\"\"\n",
    "\n",
    "#     return (\n",
    "#         lazy_vector_store.with_columns(\n",
    "#             query=pl.lit(query_embed.reshape(-1).tolist()).cast(\n",
    "#                 pl.Array(pl.Float64, shape=query_embed.shape[1])\n",
    "#             ),\n",
    "#         )\n",
    "#         .with_columns(\n",
    "#             dot=np.dot(\n",
    "#                 pl.col(\"embedding\"),\n",
    "#                 pl.col(\"query\"),\n",
    "#             )\n",
    "#         )\n",
    "#         .with_columns(\n",
    "#             sim=pl.col(\"dot\").arr.sum()\n",
    "#         )\n",
    "#         .top_k(k, by=\"sim\")\n",
    "#         .select([\"id\", \"title\", \"url\", \"time\"])\n",
    "#         .collect()\n",
    "#     )"
   ]
  },
  {
   "cell_type": "code",
   "execution_count": 18,
   "metadata": {},
   "outputs": [
    {
     "data": {
      "text/html": [
       "<div><style>\n",
       ".dataframe > thead > tr,\n",
       ".dataframe > tbody > tr {\n",
       "  text-align: right;\n",
       "  white-space: pre-wrap;\n",
       "}\n",
       "</style>\n",
       "<small>shape: (3, 4)</small><table border=\"1\" class=\"dataframe\"><thead><tr><th>id</th><th>title</th><th>url</th><th>time</th></tr><tr><td>i32</td><td>str</td><td>str</td><td>i32</td></tr></thead><tbody><tr><td>35820038</td><td>&quot;Python How Tos&quot;</td><td>&quot;https://docs.python.org/3/howt…</td><td>1683225151</td></tr><tr><td>35465484</td><td>&quot;Python Programming Exercises G…</td><td>&quot;https://inventwithpython.com/p…</td><td>1680767014</td></tr><tr><td>35421096</td><td>&quot;Think Python 2e&quot;</td><td>&quot;https://greenteapress.com/wp/t…</td><td>1680517178</td></tr></tbody></table></div>"
      ],
      "text/plain": [
       "shape: (3, 4)\n",
       "┌──────────┬─────────────────────────────────┬─────────────────────────────────┬────────────┐\n",
       "│ id       ┆ title                           ┆ url                             ┆ time       │\n",
       "│ ---      ┆ ---                             ┆ ---                             ┆ ---        │\n",
       "│ i32      ┆ str                             ┆ str                             ┆ i32        │\n",
       "╞══════════╪═════════════════════════════════╪═════════════════════════════════╪════════════╡\n",
       "│ 35820038 ┆ Python How Tos                  ┆ https://docs.python.org/3/howt… ┆ 1683225151 │\n",
       "│ 35465484 ┆ Python Programming Exercises G… ┆ https://inventwithpython.com/p… ┆ 1680767014 │\n",
       "│ 35421096 ┆ Think Python 2e                 ┆ https://greenteapress.com/wp/t… ┆ 1680517178 │\n",
       "└──────────┴─────────────────────────────────┴─────────────────────────────────┴────────────┘"
      ]
     },
     "execution_count": 18,
     "metadata": {},
     "output_type": "execute_result"
    }
   ],
   "source": [
    "get_closest_2(\n",
    "    lazy_vector_store=df,\n",
    "    query_embed=query_embedding,\n",
    "    k=3,\n",
    ")"
   ]
  },
  {
   "cell_type": "code",
   "execution_count": 19,
   "metadata": {},
   "outputs": [
    {
     "name": "stdout",
     "output_type": "stream",
     "text": [
      "1.28 s ± 105 ms per loop (mean ± std. dev. of 7 runs, 1 loop each)\n"
     ]
    }
   ],
   "source": [
    "%%timeit\n",
    "\n",
    "get_closest_2(lazy_vector_store=df, query_embed=query_embedding, k=3)"
   ]
  },
  {
   "cell_type": "markdown",
   "metadata": {},
   "source": [
    "### Method 3\n",
    "\n",
    "Sort by rank."
   ]
  },
  {
   "cell_type": "code",
   "execution_count": 20,
   "metadata": {},
   "outputs": [],
   "source": [
    "def get_closest_3(\n",
    "    lazy_vector_store: pl.LazyFrame,\n",
    "    query_embed: np.ndarray,  # noqa\n",
    "    materialized_vector_store: pl.DataFrame | None = None,  # noqa\n",
    "    k: int = 3,\n",
    ") -> pl.DataFrame:\n",
    "    \"\"\" \"\"\"\n",
    "\n",
    "    return (\n",
    "        lazy_vector_store.with_columns(\n",
    "            query=pl.lit(query_embed.reshape(-1).tolist()).cast(\n",
    "                pl.Array(pl.Float64, shape=query_embed.shape[1])\n",
    "            ),\n",
    "        )\n",
    "        .with_columns(\n",
    "            rank=np.dot(\n",
    "                pl.col(\"embedding\"),\n",
    "                pl.col(\"query\"),\n",
    "            )\n",
    "            .arr.sum()\n",
    "            .rank(method=\"min\")\n",
    "        )\n",
    "        .top_k(k, by=\"rank\")\n",
    "        .select([\"id\", \"title\", \"url\", \"time\"])\n",
    "        .collect()\n",
    "    )"
   ]
  },
  {
   "cell_type": "code",
   "execution_count": 21,
   "metadata": {},
   "outputs": [
    {
     "data": {
      "text/html": [
       "<div><style>\n",
       ".dataframe > thead > tr,\n",
       ".dataframe > tbody > tr {\n",
       "  text-align: right;\n",
       "  white-space: pre-wrap;\n",
       "}\n",
       "</style>\n",
       "<small>shape: (3, 4)</small><table border=\"1\" class=\"dataframe\"><thead><tr><th>id</th><th>title</th><th>url</th><th>time</th></tr><tr><td>i32</td><td>str</td><td>str</td><td>i32</td></tr></thead><tbody><tr><td>35820038</td><td>&quot;Python How Tos&quot;</td><td>&quot;https://docs.python.org/3/howt…</td><td>1683225151</td></tr><tr><td>35465484</td><td>&quot;Python Programming Exercises G…</td><td>&quot;https://inventwithpython.com/p…</td><td>1680767014</td></tr><tr><td>35421096</td><td>&quot;Think Python 2e&quot;</td><td>&quot;https://greenteapress.com/wp/t…</td><td>1680517178</td></tr></tbody></table></div>"
      ],
      "text/plain": [
       "shape: (3, 4)\n",
       "┌──────────┬─────────────────────────────────┬─────────────────────────────────┬────────────┐\n",
       "│ id       ┆ title                           ┆ url                             ┆ time       │\n",
       "│ ---      ┆ ---                             ┆ ---                             ┆ ---        │\n",
       "│ i32      ┆ str                             ┆ str                             ┆ i32        │\n",
       "╞══════════╪═════════════════════════════════╪═════════════════════════════════╪════════════╡\n",
       "│ 35820038 ┆ Python How Tos                  ┆ https://docs.python.org/3/howt… ┆ 1683225151 │\n",
       "│ 35465484 ┆ Python Programming Exercises G… ┆ https://inventwithpython.com/p… ┆ 1680767014 │\n",
       "│ 35421096 ┆ Think Python 2e                 ┆ https://greenteapress.com/wp/t… ┆ 1680517178 │\n",
       "└──────────┴─────────────────────────────────┴─────────────────────────────────┴────────────┘"
      ]
     },
     "execution_count": 21,
     "metadata": {},
     "output_type": "execute_result"
    }
   ],
   "source": [
    "get_closest_3(\n",
    "    lazy_vector_store=df,\n",
    "    query_embed=query_embedding,\n",
    "    k=3,\n",
    ")"
   ]
  },
  {
   "cell_type": "code",
   "execution_count": 22,
   "metadata": {},
   "outputs": [
    {
     "name": "stdout",
     "output_type": "stream",
     "text": [
      "1.18 s ± 17.9 ms per loop (mean ± std. dev. of 7 runs, 1 loop each)\n"
     ]
    }
   ],
   "source": [
    "%%timeit\n",
    "\n",
    "get_closest_3(lazy_vector_store=df, query_embed=query_embedding, k=3)"
   ]
  },
  {
   "cell_type": "markdown",
   "metadata": {},
   "source": [
    "### Method 4\n",
    "\n",
    "Compute rank, then materialize dataframe, sort by rank in numpy, get top k."
   ]
  },
  {
   "cell_type": "code",
   "execution_count": 23,
   "metadata": {},
   "outputs": [],
   "source": [
    "def get_closest_4(\n",
    "    lazy_vector_store: pl.LazyFrame,\n",
    "    query_embed: np.ndarray,  # noqa\n",
    "    materialized_vector_store: pl.DataFrame | None = None,  # noqa\n",
    "    k: int = 3,\n",
    ") -> pl.DataFrame:\n",
    "    \"\"\" \"\"\"\n",
    "\n",
    "    df_with_query = lazy_vector_store.with_columns(\n",
    "        query=pl.lit(query_embed.reshape(-1).tolist()).cast(\n",
    "            pl.Array(pl.Float64, shape=query_embed.shape[1])\n",
    "        ),\n",
    "    ).with_columns(\n",
    "        rank=np.dot(\n",
    "            pl.col(\"embedding\"),\n",
    "            pl.col(\"query\"),\n",
    "        )\n",
    "        .arr.sum()\n",
    "        .rank(method=\"min\")\n",
    "    )\n",
    "\n",
    "    # sort in numpy\n",
    "    materialized_rank = df_with_query.select([\"rank\"]).collect()[\"rank\"].to_numpy()\n",
    "    closest_indices = np.argpartition(materialized_rank, -k)[-k:]\n",
    "\n",
    "    # Sort the k closest indices by cosine similarity\n",
    "    idx = closest_indices[np.argsort(materialized_rank[closest_indices])[::-1]]\n",
    "\n",
    "    return (\n",
    "        df_with_query.with_row_index()\n",
    "        .filter(pl.col(\"index\").is_in(idx))\n",
    "        .select([\"id\", \"title\", \"url\", \"time\"])\n",
    "        .collect()\n",
    "    )"
   ]
  },
  {
   "cell_type": "code",
   "execution_count": 24,
   "metadata": {},
   "outputs": [
    {
     "data": {
      "text/html": [
       "<div><style>\n",
       ".dataframe > thead > tr,\n",
       ".dataframe > tbody > tr {\n",
       "  text-align: right;\n",
       "  white-space: pre-wrap;\n",
       "}\n",
       "</style>\n",
       "<small>shape: (3, 4)</small><table border=\"1\" class=\"dataframe\"><thead><tr><th>id</th><th>title</th><th>url</th><th>time</th></tr><tr><td>i32</td><td>str</td><td>str</td><td>i32</td></tr></thead><tbody><tr><td>35421096</td><td>&quot;Think Python 2e&quot;</td><td>&quot;https://greenteapress.com/wp/t…</td><td>1680517178</td></tr><tr><td>35465484</td><td>&quot;Python Programming Exercises G…</td><td>&quot;https://inventwithpython.com/p…</td><td>1680767014</td></tr><tr><td>35820038</td><td>&quot;Python How Tos&quot;</td><td>&quot;https://docs.python.org/3/howt…</td><td>1683225151</td></tr></tbody></table></div>"
      ],
      "text/plain": [
       "shape: (3, 4)\n",
       "┌──────────┬─────────────────────────────────┬─────────────────────────────────┬────────────┐\n",
       "│ id       ┆ title                           ┆ url                             ┆ time       │\n",
       "│ ---      ┆ ---                             ┆ ---                             ┆ ---        │\n",
       "│ i32      ┆ str                             ┆ str                             ┆ i32        │\n",
       "╞══════════╪═════════════════════════════════╪═════════════════════════════════╪════════════╡\n",
       "│ 35421096 ┆ Think Python 2e                 ┆ https://greenteapress.com/wp/t… ┆ 1680517178 │\n",
       "│ 35465484 ┆ Python Programming Exercises G… ┆ https://inventwithpython.com/p… ┆ 1680767014 │\n",
       "│ 35820038 ┆ Python How Tos                  ┆ https://docs.python.org/3/howt… ┆ 1683225151 │\n",
       "└──────────┴─────────────────────────────────┴─────────────────────────────────┴────────────┘"
      ]
     },
     "execution_count": 24,
     "metadata": {},
     "output_type": "execute_result"
    }
   ],
   "source": [
    "get_closest_4(\n",
    "    lazy_vector_store=df,\n",
    "    query_embed=query_embedding,\n",
    "    k=3,\n",
    ")"
   ]
  },
  {
   "cell_type": "code",
   "execution_count": 25,
   "metadata": {},
   "outputs": [
    {
     "name": "stdout",
     "output_type": "stream",
     "text": [
      "1.21 s ± 61.2 ms per loop (mean ± std. dev. of 7 runs, 1 loop each)\n"
     ]
    }
   ],
   "source": [
    "%%timeit\n",
    "\n",
    "get_closest_4(lazy_vector_store=df, query_embed=query_embedding, k=3)"
   ]
  },
  {
   "cell_type": "markdown",
   "metadata": {},
   "source": [
    "# Method 5\n",
    "\n",
    "Compute rank and get top k by filtering (no sorting)"
   ]
  },
  {
   "cell_type": "code",
   "execution_count": 26,
   "metadata": {},
   "outputs": [],
   "source": [
    "def get_closest_5(\n",
    "    lazy_vector_store: pl.LazyFrame,\n",
    "    query_embed: np.ndarray,  # noqa\n",
    "    materialized_vector_store: pl.DataFrame | None = None,  # noqa\n",
    "    k: int = 3,\n",
    ") -> pl.DataFrame:\n",
    "    \"\"\" \"\"\"\n",
    "\n",
    "    return (\n",
    "        lazy_vector_store.with_columns(\n",
    "            query=pl.lit(query_embed.reshape(-1).tolist()).cast(\n",
    "                pl.Array(pl.Float64, shape=query_embed.shape[1])\n",
    "            ),\n",
    "        )\n",
    "        .with_columns(\n",
    "            rank=np.dot(\n",
    "                pl.col(\"embedding\"),\n",
    "                pl.col(\"query\"),\n",
    "            )\n",
    "            .arr.sum()\n",
    "            .neg()\n",
    "            .rank(method=\"min\")\n",
    "        )\n",
    "        .filter(pl.col(\"rank\") <= k)\n",
    "        .select([\"id\", \"title\", \"url\", \"time\"])\n",
    "        .collect()\n",
    "    )\n"
   ]
  },
  {
   "cell_type": "code",
   "execution_count": 27,
   "metadata": {},
   "outputs": [
    {
     "data": {
      "text/html": [
       "<div><style>\n",
       ".dataframe > thead > tr,\n",
       ".dataframe > tbody > tr {\n",
       "  text-align: right;\n",
       "  white-space: pre-wrap;\n",
       "}\n",
       "</style>\n",
       "<small>shape: (3, 4)</small><table border=\"1\" class=\"dataframe\"><thead><tr><th>id</th><th>title</th><th>url</th><th>time</th></tr><tr><td>i32</td><td>str</td><td>str</td><td>i32</td></tr></thead><tbody><tr><td>35421096</td><td>&quot;Think Python 2e&quot;</td><td>&quot;https://greenteapress.com/wp/t…</td><td>1680517178</td></tr><tr><td>35465484</td><td>&quot;Python Programming Exercises G…</td><td>&quot;https://inventwithpython.com/p…</td><td>1680767014</td></tr><tr><td>35820038</td><td>&quot;Python How Tos&quot;</td><td>&quot;https://docs.python.org/3/howt…</td><td>1683225151</td></tr></tbody></table></div>"
      ],
      "text/plain": [
       "shape: (3, 4)\n",
       "┌──────────┬─────────────────────────────────┬─────────────────────────────────┬────────────┐\n",
       "│ id       ┆ title                           ┆ url                             ┆ time       │\n",
       "│ ---      ┆ ---                             ┆ ---                             ┆ ---        │\n",
       "│ i32      ┆ str                             ┆ str                             ┆ i32        │\n",
       "╞══════════╪═════════════════════════════════╪═════════════════════════════════╪════════════╡\n",
       "│ 35421096 ┆ Think Python 2e                 ┆ https://greenteapress.com/wp/t… ┆ 1680517178 │\n",
       "│ 35465484 ┆ Python Programming Exercises G… ┆ https://inventwithpython.com/p… ┆ 1680767014 │\n",
       "│ 35820038 ┆ Python How Tos                  ┆ https://docs.python.org/3/howt… ┆ 1683225151 │\n",
       "└──────────┴─────────────────────────────────┴─────────────────────────────────┴────────────┘"
      ]
     },
     "execution_count": 27,
     "metadata": {},
     "output_type": "execute_result"
    }
   ],
   "source": [
    "get_closest_5(\n",
    "    lazy_vector_store=df,\n",
    "    query_embed=query_embedding,\n",
    "    k=3,\n",
    ")"
   ]
  },
  {
   "cell_type": "code",
   "execution_count": 28,
   "metadata": {},
   "outputs": [
    {
     "name": "stdout",
     "output_type": "stream",
     "text": [
      "1.19 s ± 44.3 ms per loop (mean ± std. dev. of 7 runs, 1 loop each)\n"
     ]
    }
   ],
   "source": [
    "%%timeit\n",
    "\n",
    "get_closest_5(lazy_vector_store=df, query_embed=query_embedding, k=3)"
   ]
  }
 ],
 "metadata": {
  "kernelspec": {
   "display_name": ".venv",
   "language": "python",
   "name": "python3"
  },
  "language_info": {
   "codemirror_mode": {
    "name": "ipython",
    "version": 3
   },
   "file_extension": ".py",
   "mimetype": "text/x-python",
   "name": "python",
   "nbconvert_exporter": "python",
   "pygments_lexer": "ipython3",
   "version": "3.12.7"
  }
 },
 "nbformat": 4,
 "nbformat_minor": 2
}
