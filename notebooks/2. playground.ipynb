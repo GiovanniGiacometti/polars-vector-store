{
 "cells": [
  {
   "cell_type": "code",
   "execution_count": 1,
   "metadata": {},
   "outputs": [
    {
     "name": "stdout",
     "output_type": "stream",
     "text": [
      "Current folder: c:\\Users\\giova\\Desktop\\Sides\\polars-vector-store\n"
     ]
    }
   ],
   "source": [
    "import os\n",
    "\n",
    "while \"polars_vector_store\" not in os.listdir():\n",
    "    os.chdir(\"..\")\n",
    "    print(f\"Current folder: {os.getcwd()}\")"
   ]
  },
  {
   "cell_type": "markdown",
   "metadata": {},
   "source": [
    "# Imports"
   ]
  },
  {
   "cell_type": "code",
   "execution_count": 2,
   "metadata": {},
   "outputs": [],
   "source": [
    "import polars as pl\n",
    "import numpy as np\n",
    "from dotenv import load_dotenv\n",
    "from datetime import datetime\n",
    "import requests"
   ]
  },
  {
   "cell_type": "code",
   "execution_count": 3,
   "metadata": {},
   "outputs": [],
   "source": [
    "load_dotenv()\n",
    "\n",
    "OPENAI_API_KEY = os.getenv(\"OPENAI_API_KEY\")\n",
    "url = \"https://api.openai.com/v1/embeddings\""
   ]
  },
  {
   "cell_type": "code",
   "execution_count": 4,
   "metadata": {},
   "outputs": [],
   "source": [
    "def compute_embeddings(\n",
    "    texts: str | list[str],\n",
    "    open_ai_model: str = \"text-embedding-3-small\",\n",
    "    normalize: bool = True,\n",
    ") -> np.ndarray:\n",
    "    \"\"\"\n",
    "    Compute embeddings for a list of texts.\n",
    "\n",
    "    Returns a numpy array of embeddings of shape\n",
    "    (len(texts), embedding_size).\n",
    "    \"\"\"\n",
    "\n",
    "    if isinstance(texts, str):\n",
    "        texts = [texts]\n",
    "\n",
    "    headers = {\n",
    "        \"Authorization\": f\"Bearer {OPENAI_API_KEY}\",\n",
    "        \"Content-Type\": \"application/json\",\n",
    "    }\n",
    "\n",
    "    payload = {\n",
    "        \"input\": texts,\n",
    "        \"model\": open_ai_model,\n",
    "        \"encoding_format\": \"float\",\n",
    "    }\n",
    "\n",
    "    # Make the POST request\n",
    "    json_response = requests.post(url, headers=headers, json=payload).json()\n",
    "\n",
    "    # Extract the embeddings\n",
    "\n",
    "    embeddings = np.array(\n",
    "        [embedding_json[\"embedding\"] for embedding_json in json_response[\"data\"]]\n",
    "    )\n",
    "\n",
    "    if normalize:\n",
    "        embeddings = embeddings / np.linalg.norm(embeddings, axis=1, keepdims=True)\n",
    "\n",
    "    return embeddings"
   ]
  },
  {
   "cell_type": "markdown",
   "metadata": {},
   "source": [
    "# Load Data"
   ]
  },
  {
   "cell_type": "code",
   "execution_count": 5,
   "metadata": {},
   "outputs": [],
   "source": [
    "DATA_FOLDER = \"data\"\n",
    "DATASET_NAME = \"hacker_news\"\n",
    "FILE_NAME = f\"{DATA_FOLDER}/{DATASET_NAME}.parquet\""
   ]
  },
  {
   "cell_type": "code",
   "execution_count": 6,
   "metadata": {},
   "outputs": [],
   "source": [
    "df = pl.scan_parquet(FILE_NAME)"
   ]
  },
  {
   "cell_type": "code",
   "execution_count": 7,
   "metadata": {},
   "outputs": [],
   "source": [
    "materialized_df = df.collect()"
   ]
  },
  {
   "cell_type": "code",
   "execution_count": 8,
   "metadata": {},
   "outputs": [
    {
     "data": {
      "text/plain": [
       "(28544, 5)"
      ]
     },
     "execution_count": 8,
     "metadata": {},
     "output_type": "execute_result"
    }
   ],
   "source": [
    "materialized_df.shape"
   ]
  },
  {
   "cell_type": "code",
   "execution_count": 9,
   "metadata": {},
   "outputs": [
    {
     "data": {
      "text/html": [
       "<div><style>\n",
       ".dataframe > thead > tr,\n",
       ".dataframe > tbody > tr {\n",
       "  text-align: right;\n",
       "  white-space: pre-wrap;\n",
       "}\n",
       "</style>\n",
       "<small>shape: (5, 5)</small><table border=\"1\" class=\"dataframe\"><thead><tr><th>id</th><th>time</th><th>title</th><th>url</th><th>embedding</th></tr><tr><td>str</td><td>i32</td><td>str</td><td>str</td><td>array[f64, 1536]</td></tr></thead><tbody><tr><td>&quot;35515614&quot;</td><td>1681151391</td><td>&quot;Text-Based Tetris&quot;</td><td>&quot;https://aino.agency/game&quot;</td><td>[-0.041159, 0.038379, … 0.001997]</td></tr><tr><td>&quot;35680911&quot;</td><td>1682285922</td><td>&quot;Will the Internet Democratize …</td><td>&quot;https://www.nytimes.com/2023/0…</td><td>[0.020964, -0.022481, … -0.008165]</td></tr><tr><td>&quot;35806111&quot;</td><td>1683139428</td><td>&quot;ChatGPT can now find you a hou…</td><td>&quot;https://www.theverge.com/2023/…</td><td>[-0.03301, 0.025399, … -0.000259]</td></tr><tr><td>&quot;35908618&quot;</td><td>1683840510</td><td>&quot;Capsule captures first look in…</td><td>&quot;https://www.ucdavis.edu/news/c…</td><td>[-0.004219, 0.024209, … -0.011713]</td></tr><tr><td>&quot;35911041&quot;</td><td>1683857335</td><td>&quot;Long popular in Asia, floating…</td><td>&quot;https://apnews.com/article/flo…</td><td>[-0.0095, 0.006706, … -0.000616]</td></tr></tbody></table></div>"
      ],
      "text/plain": [
       "shape: (5, 5)\n",
       "┌──────────┬────────────┬────────────────────────┬────────────────────────┬────────────────────────┐\n",
       "│ id       ┆ time       ┆ title                  ┆ url                    ┆ embedding              │\n",
       "│ ---      ┆ ---        ┆ ---                    ┆ ---                    ┆ ---                    │\n",
       "│ str      ┆ i32        ┆ str                    ┆ str                    ┆ array[f64, 1536]       │\n",
       "╞══════════╪════════════╪════════════════════════╪════════════════════════╪════════════════════════╡\n",
       "│ 35515614 ┆ 1681151391 ┆ Text-Based Tetris      ┆ https://aino.agency/ga ┆ [-0.041159, 0.038379,  │\n",
       "│          ┆            ┆                        ┆ me                     ┆ … 0.0019…              │\n",
       "│ 35680911 ┆ 1682285922 ┆ Will the Internet      ┆ https://www.nytimes.co ┆ [0.020964, -0.022481,  │\n",
       "│          ┆            ┆ Democratize …          ┆ m/2023/0…              ┆ … -0.008…              │\n",
       "│ 35806111 ┆ 1683139428 ┆ ChatGPT can now find   ┆ https://www.theverge.c ┆ [-0.03301, 0.025399, … │\n",
       "│          ┆            ┆ you a hou…             ┆ om/2023/…              ┆ -0.0002…               │\n",
       "│ 35908618 ┆ 1683840510 ┆ Capsule captures first ┆ https://www.ucdavis.ed ┆ [-0.004219, 0.024209,  │\n",
       "│          ┆            ┆ look in…               ┆ u/news/c…              ┆ … -0.011…              │\n",
       "│ 35911041 ┆ 1683857335 ┆ Long popular in Asia,  ┆ https://apnews.com/art ┆ [-0.0095, 0.006706, …  │\n",
       "│          ┆            ┆ floating…              ┆ icle/flo…              ┆ -0.00061…              │\n",
       "└──────────┴────────────┴────────────────────────┴────────────────────────┴────────────────────────┘"
      ]
     },
     "execution_count": 9,
     "metadata": {},
     "output_type": "execute_result"
    }
   ],
   "source": [
    "df.head().collect()"
   ]
  },
  {
   "cell_type": "markdown",
   "metadata": {},
   "source": [
    "df is our vector store. It has an id, the title, the url of the post, the time it was published and the embedding"
   ]
  },
  {
   "cell_type": "code",
   "execution_count": 10,
   "metadata": {},
   "outputs": [],
   "source": [
    "query = \"Python\"\n",
    "query_embedding = compute_embeddings(query)"
   ]
  },
  {
   "cell_type": "markdown",
   "metadata": {},
   "source": [
    "### Method 1\n",
    "\n",
    "Inspired by the blog post. Materialize dataframe, get embedding column, and convert to numpy array and compute cosine similarity with efficient\n",
    "numpy tricks."
   ]
  },
  {
   "cell_type": "code",
   "execution_count": 11,
   "metadata": {},
   "outputs": [],
   "source": [
    "def get_closest_1(\n",
    "    lazy_vector_store: pl.LazyFrame,\n",
    "    query_embed: np.ndarray,\n",
    "    materialized_vector_store: pl.DataFrame | None = None,\n",
    "    k: int = 3,\n",
    ") -> pl.DataFrame:\n",
    "    \"\"\"\n",
    "    First method: extract embeddings column and compute\n",
    "    cosine similarity with the query embedding.\n",
    "\n",
    "    Returns the k rows with the smallest cosine similarity.\n",
    "\n",
    "    The performance of this method is heavily impacted by having\n",
    "    to materialize the dataframe. We keep that as an argument\n",
    "    so that we can test its impact.\n",
    "    Nonetheless assuming to having it already materialized is not\n",
    "    optimal since in a real-world scenario the embeddings could be\n",
    "    very large (thus not fitting in memory) or we might want to load\n",
    "    them \"on-demand\" (rather than having them always in memory).\n",
    "    \"\"\"\n",
    "\n",
    "    # We need to materialize in order to access the embeddings column\n",
    "    if materialized_vector_store is None:\n",
    "        materialized_vector_store = lazy_vector_store.select([\"embedding\"]).collect()\n",
    "\n",
    "    vector_store_embeds = materialized_vector_store[\"embedding\"].to_numpy()\n",
    "\n",
    "    # Compute cosine similarity.\n",
    "    # Since the embeddings are normalized, this is equivalent to the dot product.\n",
    "    cosine_similarities = np.einsum(\"ij,ij->i\", vector_store_embeds, query_embed)\n",
    "\n",
    "    # Get the indices of the k smallest cosine similarities\n",
    "    # Notice that argpartition gives no guarantee on the order\n",
    "    # of the k smallest elements, which is why we need\n",
    "    # an extra sorting step after the partitioning.\n",
    "    closest_indices = np.argpartition(cosine_similarities, -k)[-k:]\n",
    "\n",
    "    # Sort the k closest indices by cosine similarity\n",
    "    idx = closest_indices[np.argsort(cosine_similarities[closest_indices])[::-1]]\n",
    "\n",
    "    return (\n",
    "        lazy_vector_store.with_row_index()\n",
    "        .filter(pl.col(\"index\").is_in(idx))\n",
    "        .select([\"id\", \"title\", \"url\", \"time\"])\n",
    "        .collect()\n",
    "    )"
   ]
  },
  {
   "cell_type": "code",
   "execution_count": 12,
   "metadata": {},
   "outputs": [
    {
     "data": {
      "text/html": [
       "<div><style>\n",
       ".dataframe > thead > tr,\n",
       ".dataframe > tbody > tr {\n",
       "  text-align: right;\n",
       "  white-space: pre-wrap;\n",
       "}\n",
       "</style>\n",
       "<small>shape: (3, 4)</small><table border=\"1\" class=\"dataframe\"><thead><tr><th>id</th><th>title</th><th>url</th><th>time</th></tr><tr><td>str</td><td>str</td><td>str</td><td>i32</td></tr></thead><tbody><tr><td>&quot;35421096&quot;</td><td>&quot;Think Python 2e&quot;</td><td>&quot;https://greenteapress.com/wp/t…</td><td>1680517178</td></tr><tr><td>&quot;35465484&quot;</td><td>&quot;Python Programming Exercises G…</td><td>&quot;https://inventwithpython.com/p…</td><td>1680767014</td></tr><tr><td>&quot;35820038&quot;</td><td>&quot;Python How Tos&quot;</td><td>&quot;https://docs.python.org/3/howt…</td><td>1683225151</td></tr></tbody></table></div>"
      ],
      "text/plain": [
       "shape: (3, 4)\n",
       "┌──────────┬─────────────────────────────────┬─────────────────────────────────┬────────────┐\n",
       "│ id       ┆ title                           ┆ url                             ┆ time       │\n",
       "│ ---      ┆ ---                             ┆ ---                             ┆ ---        │\n",
       "│ str      ┆ str                             ┆ str                             ┆ i32        │\n",
       "╞══════════╪═════════════════════════════════╪═════════════════════════════════╪════════════╡\n",
       "│ 35421096 ┆ Think Python 2e                 ┆ https://greenteapress.com/wp/t… ┆ 1680517178 │\n",
       "│ 35465484 ┆ Python Programming Exercises G… ┆ https://inventwithpython.com/p… ┆ 1680767014 │\n",
       "│ 35820038 ┆ Python How Tos                  ┆ https://docs.python.org/3/howt… ┆ 1683225151 │\n",
       "└──────────┴─────────────────────────────────┴─────────────────────────────────┴────────────┘"
      ]
     },
     "execution_count": 12,
     "metadata": {},
     "output_type": "execute_result"
    }
   ],
   "source": [
    "get_closest_1(lazy_vector_store=df, query_embed=query_embedding, k=3)"
   ]
  },
  {
   "cell_type": "code",
   "execution_count": 13,
   "metadata": {},
   "outputs": [
    {
     "data": {
      "text/html": [
       "<div><style>\n",
       ".dataframe > thead > tr,\n",
       ".dataframe > tbody > tr {\n",
       "  text-align: right;\n",
       "  white-space: pre-wrap;\n",
       "}\n",
       "</style>\n",
       "<small>shape: (3, 4)</small><table border=\"1\" class=\"dataframe\"><thead><tr><th>id</th><th>title</th><th>url</th><th>time</th></tr><tr><td>str</td><td>str</td><td>str</td><td>i32</td></tr></thead><tbody><tr><td>&quot;35421096&quot;</td><td>&quot;Think Python 2e&quot;</td><td>&quot;https://greenteapress.com/wp/t…</td><td>1680517178</td></tr><tr><td>&quot;35465484&quot;</td><td>&quot;Python Programming Exercises G…</td><td>&quot;https://inventwithpython.com/p…</td><td>1680767014</td></tr><tr><td>&quot;35820038&quot;</td><td>&quot;Python How Tos&quot;</td><td>&quot;https://docs.python.org/3/howt…</td><td>1683225151</td></tr></tbody></table></div>"
      ],
      "text/plain": [
       "shape: (3, 4)\n",
       "┌──────────┬─────────────────────────────────┬─────────────────────────────────┬────────────┐\n",
       "│ id       ┆ title                           ┆ url                             ┆ time       │\n",
       "│ ---      ┆ ---                             ┆ ---                             ┆ ---        │\n",
       "│ str      ┆ str                             ┆ str                             ┆ i32        │\n",
       "╞══════════╪═════════════════════════════════╪═════════════════════════════════╪════════════╡\n",
       "│ 35421096 ┆ Think Python 2e                 ┆ https://greenteapress.com/wp/t… ┆ 1680517178 │\n",
       "│ 35465484 ┆ Python Programming Exercises G… ┆ https://inventwithpython.com/p… ┆ 1680767014 │\n",
       "│ 35820038 ┆ Python How Tos                  ┆ https://docs.python.org/3/howt… ┆ 1683225151 │\n",
       "└──────────┴─────────────────────────────────┴─────────────────────────────────┴────────────┘"
      ]
     },
     "execution_count": 13,
     "metadata": {},
     "output_type": "execute_result"
    }
   ],
   "source": [
    "get_closest_1(\n",
    "    lazy_vector_store=df,\n",
    "    query_embed=query_embedding,\n",
    "    k=3,\n",
    "    materialized_vector_store=materialized_df,\n",
    ")"
   ]
  },
  {
   "cell_type": "code",
   "execution_count": 14,
   "metadata": {},
   "outputs": [
    {
     "name": "stdout",
     "output_type": "stream",
     "text": [
      "1.89 s ± 337 ms per loop (mean ± std. dev. of 7 runs, 1 loop each)\n"
     ]
    }
   ],
   "source": [
    "%%timeit\n",
    "\n",
    "get_closest_1(lazy_vector_store=df, query_embed=query_embedding, k=3)"
   ]
  },
  {
   "cell_type": "code",
   "execution_count": 15,
   "metadata": {},
   "outputs": [
    {
     "name": "stdout",
     "output_type": "stream",
     "text": [
      "59.9 ms ± 4.22 ms per loop (mean ± std. dev. of 7 runs, 10 loops each)\n"
     ]
    }
   ],
   "source": [
    "%%timeit\n",
    "\n",
    "get_closest_1(\n",
    "    lazy_vector_store=df,\n",
    "    query_embed=query_embedding,\n",
    "    k=3,\n",
    "    materialized_vector_store=materialized_df,\n",
    ")"
   ]
  },
  {
   "cell_type": "markdown",
   "metadata": {},
   "source": [
    "### Method 2\n",
    "\n"
   ]
  },
  {
   "cell_type": "code",
   "execution_count": 12,
   "metadata": {},
   "outputs": [],
   "source": [
    "def get_closest_2(\n",
    "    lazy_vector_store: pl.LazyFrame,\n",
    "    query_embed: np.ndarray,  # noqa\n",
    "    materialized_vector_store: pl.DataFrame | None = None,  # noqa\n",
    "    k: int = 3,\n",
    ") -> pl.DataFrame:\n",
    "    \"\"\" \"\"\"\n",
    "\n",
    "    return (\n",
    "        lazy_vector_store.with_columns(\n",
    "            query=pl.lit(query_embed.reshape(-1).tolist()).cast(\n",
    "                pl.Array(pl.Float64, shape=query_embed.shape[1])\n",
    "            ),\n",
    "        )\n",
    "        .with_columns(\n",
    "            sim=np.dot(\n",
    "                pl.col(\"embedding\"),\n",
    "                pl.col(\"query\"),\n",
    "            ).arr.sum()\n",
    "        )\n",
    "        .top_k(k, by=\"sim\")\n",
    "        .select([\"id\", \"title\", \"url\", \"time\"])\n",
    "        .collect()\n",
    "    )"
   ]
  },
  {
   "cell_type": "code",
   "execution_count": 17,
   "metadata": {},
   "outputs": [],
   "source": [
    "# def get_closest_2_v2(\n",
    "#     lazy_vector_store: pl.LazyFrame,\n",
    "#     query_embed: np.ndarray,  # noqa\n",
    "#     materialized_vector_store: pl.DataFrame | None = None,  # noqa\n",
    "#     k: int = 3,\n",
    "# ) -> pl.DataFrame:\n",
    "#     \"\"\" \"\"\"\n",
    "\n",
    "#     return (\n",
    "#         lazy_vector_store.with_columns(\n",
    "#             query=pl.lit(query_embed.reshape(-1).tolist()).cast(\n",
    "#                 pl.Array(pl.Float64, shape=query_embed.shape[1])\n",
    "#             ),\n",
    "#         )\n",
    "#         .with_columns(\n",
    "#             dot=np.dot(\n",
    "#                 pl.col(\"embedding\"),\n",
    "#                 pl.col(\"query\"),\n",
    "#             )\n",
    "#         )\n",
    "#         .with_columns(\n",
    "#             sim=pl.col(\"dot\").arr.sum()\n",
    "#         )\n",
    "#         .top_k(k, by=\"sim\")\n",
    "#         .select([\"id\", \"title\", \"url\", \"time\"])\n",
    "#         .collect()\n",
    "#     )"
   ]
  },
  {
   "cell_type": "code",
   "execution_count": 15,
   "metadata": {},
   "outputs": [
    {
     "ename": "AttributeError",
     "evalue": "'numpy.ndarray' object has no attribute 'arr'",
     "output_type": "error",
     "traceback": [
      "\u001b[1;31m---------------------------------------------------------------------------\u001b[0m",
      "\u001b[1;31mAttributeError\u001b[0m                            Traceback (most recent call last)",
      "Cell \u001b[1;32mIn[15], line 1\u001b[0m\n\u001b[1;32m----> 1\u001b[0m \u001b[43mget_closest_2\u001b[49m\u001b[43m(\u001b[49m\n\u001b[0;32m      2\u001b[0m \u001b[43m    \u001b[49m\u001b[43mlazy_vector_store\u001b[49m\u001b[38;5;241;43m=\u001b[39;49m\u001b[43mdf\u001b[49m\u001b[43m,\u001b[49m\n\u001b[0;32m      3\u001b[0m \u001b[43m    \u001b[49m\u001b[43mquery_embed\u001b[49m\u001b[38;5;241;43m=\u001b[39;49m\u001b[43mquery_embedding\u001b[49m\u001b[43m,\u001b[49m\n\u001b[0;32m      4\u001b[0m \u001b[43m    \u001b[49m\u001b[43mk\u001b[49m\u001b[38;5;241;43m=\u001b[39;49m\u001b[38;5;241;43m3\u001b[39;49m\u001b[43m,\u001b[49m\n\u001b[0;32m      5\u001b[0m \u001b[43m)\u001b[49m\n",
      "Cell \u001b[1;32mIn[14], line 14\u001b[0m, in \u001b[0;36mget_closest_2\u001b[1;34m(lazy_vector_store, query_embed, materialized_vector_store, k)\u001b[0m\n\u001b[0;32m      1\u001b[0m \u001b[38;5;28;01mdef\u001b[39;00m\u001b[38;5;250m \u001b[39m\u001b[38;5;21mget_closest_2\u001b[39m(\n\u001b[0;32m      2\u001b[0m     lazy_vector_store: pl\u001b[38;5;241m.\u001b[39mLazyFrame,\n\u001b[0;32m      3\u001b[0m     query_embed: np\u001b[38;5;241m.\u001b[39mndarray,  \u001b[38;5;66;03m# noqa\u001b[39;00m\n\u001b[0;32m      4\u001b[0m     materialized_vector_store: pl\u001b[38;5;241m.\u001b[39mDataFrame \u001b[38;5;241m|\u001b[39m \u001b[38;5;28;01mNone\u001b[39;00m \u001b[38;5;241m=\u001b[39m \u001b[38;5;28;01mNone\u001b[39;00m,  \u001b[38;5;66;03m# noqa\u001b[39;00m\n\u001b[0;32m      5\u001b[0m     k: \u001b[38;5;28mint\u001b[39m \u001b[38;5;241m=\u001b[39m \u001b[38;5;241m3\u001b[39m,\n\u001b[0;32m      6\u001b[0m ) \u001b[38;5;241m-\u001b[39m\u001b[38;5;241m>\u001b[39m pl\u001b[38;5;241m.\u001b[39mDataFrame:\n\u001b[0;32m      7\u001b[0m \u001b[38;5;250m    \u001b[39m\u001b[38;5;124;03m\"\"\" \"\"\"\u001b[39;00m\n\u001b[0;32m      9\u001b[0m     \u001b[38;5;28;01mreturn\u001b[39;00m (\n\u001b[0;32m     10\u001b[0m         lazy_vector_store\u001b[38;5;241m.\u001b[39mwith_columns(\n\u001b[0;32m     11\u001b[0m             sim\u001b[38;5;241m=\u001b[39m\u001b[43mnp\u001b[49m\u001b[38;5;241;43m.\u001b[39;49m\u001b[43mdot\u001b[49m\u001b[43m(\u001b[49m\n\u001b[0;32m     12\u001b[0m \u001b[43m                \u001b[49m\u001b[43mpl\u001b[49m\u001b[38;5;241;43m.\u001b[39;49m\u001b[43mcol\u001b[49m\u001b[43m(\u001b[49m\u001b[38;5;124;43m\"\u001b[39;49m\u001b[38;5;124;43membedding\u001b[39;49m\u001b[38;5;124;43m\"\u001b[39;49m\u001b[43m)\u001b[49m\u001b[43m,\u001b[49m\n\u001b[0;32m     13\u001b[0m \u001b[43m                \u001b[49m\u001b[43mquery_embed\u001b[49m\u001b[43m,\u001b[49m\n\u001b[1;32m---> 14\u001b[0m \u001b[43m            \u001b[49m\u001b[43m)\u001b[49m\u001b[38;5;241;43m.\u001b[39;49m\u001b[43marr\u001b[49m\u001b[38;5;241m.\u001b[39msum()\n\u001b[0;32m     15\u001b[0m         )\n\u001b[0;32m     16\u001b[0m         \u001b[38;5;241m.\u001b[39mtop_k(k, by\u001b[38;5;241m=\u001b[39m\u001b[38;5;124m\"\u001b[39m\u001b[38;5;124msim\u001b[39m\u001b[38;5;124m\"\u001b[39m)\n\u001b[0;32m     17\u001b[0m         \u001b[38;5;241m.\u001b[39mselect([\u001b[38;5;124m\"\u001b[39m\u001b[38;5;124mid\u001b[39m\u001b[38;5;124m\"\u001b[39m, \u001b[38;5;124m\"\u001b[39m\u001b[38;5;124mtitle\u001b[39m\u001b[38;5;124m\"\u001b[39m, \u001b[38;5;124m\"\u001b[39m\u001b[38;5;124murl\u001b[39m\u001b[38;5;124m\"\u001b[39m, \u001b[38;5;124m\"\u001b[39m\u001b[38;5;124mtime\u001b[39m\u001b[38;5;124m\"\u001b[39m])\n\u001b[0;32m     18\u001b[0m         \u001b[38;5;241m.\u001b[39mcollect()\n\u001b[0;32m     19\u001b[0m     )\n",
      "\u001b[1;31mAttributeError\u001b[0m: 'numpy.ndarray' object has no attribute 'arr'"
     ]
    }
   ],
   "source": [
    "get_closest_2(\n",
    "    lazy_vector_store=df,\n",
    "    query_embed=query_embedding,\n",
    "    k=3,\n",
    ")"
   ]
  },
  {
   "cell_type": "code",
   "execution_count": 19,
   "metadata": {},
   "outputs": [
    {
     "name": "stdout",
     "output_type": "stream",
     "text": [
      "2.53 s ± 166 ms per loop (mean ± std. dev. of 7 runs, 1 loop each)\n"
     ]
    }
   ],
   "source": [
    "%%timeit\n",
    "\n",
    "get_closest_2(lazy_vector_store=df, query_embed=query_embedding, k=3)"
   ]
  },
  {
   "cell_type": "markdown",
   "metadata": {},
   "source": [
    "### Method 3\n",
    "\n",
    "Sort by rank."
   ]
  },
  {
   "cell_type": "code",
   "execution_count": 20,
   "metadata": {},
   "outputs": [],
   "source": [
    "def get_closest_3(\n",
    "    lazy_vector_store: pl.LazyFrame,\n",
    "    query_embed: np.ndarray,  # noqa\n",
    "    materialized_vector_store: pl.DataFrame | None = None,  # noqa\n",
    "    k: int = 3,\n",
    ") -> pl.DataFrame:\n",
    "    \"\"\" \"\"\"\n",
    "\n",
    "    return (\n",
    "        lazy_vector_store.with_columns(\n",
    "            query=pl.lit(query_embed.reshape(-1).tolist()).cast(\n",
    "                pl.Array(pl.Float64, shape=query_embed.shape[1])\n",
    "            ),\n",
    "        )\n",
    "        .with_columns(\n",
    "            rank=np.dot(\n",
    "                pl.col(\"embedding\"),\n",
    "                pl.col(\"query\"),\n",
    "            )\n",
    "            .arr.sum()\n",
    "            .rank(method=\"min\")\n",
    "        )\n",
    "        .top_k(k, by=\"rank\")\n",
    "        .select([\"id\", \"title\", \"url\", \"time\"])\n",
    "        .collect()\n",
    "    )"
   ]
  },
  {
   "cell_type": "code",
   "execution_count": 21,
   "metadata": {},
   "outputs": [
    {
     "data": {
      "text/html": [
       "<div><style>\n",
       ".dataframe > thead > tr,\n",
       ".dataframe > tbody > tr {\n",
       "  text-align: right;\n",
       "  white-space: pre-wrap;\n",
       "}\n",
       "</style>\n",
       "<small>shape: (3, 4)</small><table border=\"1\" class=\"dataframe\"><thead><tr><th>id</th><th>title</th><th>url</th><th>time</th></tr><tr><td>str</td><td>str</td><td>str</td><td>i32</td></tr></thead><tbody><tr><td>&quot;35820038&quot;</td><td>&quot;Python How Tos&quot;</td><td>&quot;https://docs.python.org/3/howt…</td><td>1683225151</td></tr><tr><td>&quot;35465484&quot;</td><td>&quot;Python Programming Exercises G…</td><td>&quot;https://inventwithpython.com/p…</td><td>1680767014</td></tr><tr><td>&quot;35421096&quot;</td><td>&quot;Think Python 2e&quot;</td><td>&quot;https://greenteapress.com/wp/t…</td><td>1680517178</td></tr></tbody></table></div>"
      ],
      "text/plain": [
       "shape: (3, 4)\n",
       "┌──────────┬─────────────────────────────────┬─────────────────────────────────┬────────────┐\n",
       "│ id       ┆ title                           ┆ url                             ┆ time       │\n",
       "│ ---      ┆ ---                             ┆ ---                             ┆ ---        │\n",
       "│ str      ┆ str                             ┆ str                             ┆ i32        │\n",
       "╞══════════╪═════════════════════════════════╪═════════════════════════════════╪════════════╡\n",
       "│ 35820038 ┆ Python How Tos                  ┆ https://docs.python.org/3/howt… ┆ 1683225151 │\n",
       "│ 35465484 ┆ Python Programming Exercises G… ┆ https://inventwithpython.com/p… ┆ 1680767014 │\n",
       "│ 35421096 ┆ Think Python 2e                 ┆ https://greenteapress.com/wp/t… ┆ 1680517178 │\n",
       "└──────────┴─────────────────────────────────┴─────────────────────────────────┴────────────┘"
      ]
     },
     "execution_count": 21,
     "metadata": {},
     "output_type": "execute_result"
    }
   ],
   "source": [
    "get_closest_3(\n",
    "    lazy_vector_store=df,\n",
    "    query_embed=query_embedding,\n",
    "    k=3,\n",
    ")"
   ]
  },
  {
   "cell_type": "code",
   "execution_count": 22,
   "metadata": {},
   "outputs": [
    {
     "name": "stdout",
     "output_type": "stream",
     "text": [
      "1.34 s ± 61.7 ms per loop (mean ± std. dev. of 7 runs, 1 loop each)\n"
     ]
    }
   ],
   "source": [
    "%%timeit\n",
    "\n",
    "get_closest_3(lazy_vector_store=df, query_embed=query_embedding, k=3)"
   ]
  },
  {
   "cell_type": "markdown",
   "metadata": {},
   "source": [
    "### Method 4\n",
    "\n",
    "Compute rank, then materialize dataframe, sort by rank in numpy, get top k."
   ]
  },
  {
   "cell_type": "code",
   "execution_count": 23,
   "metadata": {},
   "outputs": [],
   "source": [
    "def get_closest_4(\n",
    "    lazy_vector_store: pl.LazyFrame,\n",
    "    query_embed: np.ndarray,  # noqa\n",
    "    materialized_vector_store: pl.DataFrame | None = None,  # noqa\n",
    "    k: int = 3,\n",
    ") -> pl.DataFrame:\n",
    "    \"\"\" \"\"\"\n",
    "\n",
    "    df_with_query = lazy_vector_store.with_columns(\n",
    "        query=pl.lit(query_embed.reshape(-1).tolist()).cast(\n",
    "            pl.Array(pl.Float64, shape=query_embed.shape[1])\n",
    "        ),\n",
    "    ).with_columns(\n",
    "        rank=np.dot(\n",
    "            pl.col(\"embedding\"),\n",
    "            pl.col(\"query\"),\n",
    "        )\n",
    "        .arr.sum()\n",
    "        .rank(method=\"min\")\n",
    "    )\n",
    "\n",
    "    # sort in numpy\n",
    "    materialized_rank = df_with_query.select([\"rank\"]).collect()[\"rank\"].to_numpy()\n",
    "    closest_indices = np.argpartition(materialized_rank, -k)[-k:]\n",
    "\n",
    "    # Sort the k closest indices by cosine similarity\n",
    "    idx = closest_indices[np.argsort(materialized_rank[closest_indices])[::-1]]\n",
    "\n",
    "    return (\n",
    "        df_with_query.with_row_index()\n",
    "        .filter(pl.col(\"index\").is_in(idx))\n",
    "        .select([\"id\", \"title\", \"url\", \"time\"])\n",
    "        .collect()\n",
    "    )"
   ]
  },
  {
   "cell_type": "code",
   "execution_count": 24,
   "metadata": {},
   "outputs": [
    {
     "data": {
      "text/html": [
       "<div><style>\n",
       ".dataframe > thead > tr,\n",
       ".dataframe > tbody > tr {\n",
       "  text-align: right;\n",
       "  white-space: pre-wrap;\n",
       "}\n",
       "</style>\n",
       "<small>shape: (3, 4)</small><table border=\"1\" class=\"dataframe\"><thead><tr><th>id</th><th>title</th><th>url</th><th>time</th></tr><tr><td>str</td><td>str</td><td>str</td><td>i32</td></tr></thead><tbody><tr><td>&quot;35421096&quot;</td><td>&quot;Think Python 2e&quot;</td><td>&quot;https://greenteapress.com/wp/t…</td><td>1680517178</td></tr><tr><td>&quot;35465484&quot;</td><td>&quot;Python Programming Exercises G…</td><td>&quot;https://inventwithpython.com/p…</td><td>1680767014</td></tr><tr><td>&quot;35820038&quot;</td><td>&quot;Python How Tos&quot;</td><td>&quot;https://docs.python.org/3/howt…</td><td>1683225151</td></tr></tbody></table></div>"
      ],
      "text/plain": [
       "shape: (3, 4)\n",
       "┌──────────┬─────────────────────────────────┬─────────────────────────────────┬────────────┐\n",
       "│ id       ┆ title                           ┆ url                             ┆ time       │\n",
       "│ ---      ┆ ---                             ┆ ---                             ┆ ---        │\n",
       "│ str      ┆ str                             ┆ str                             ┆ i32        │\n",
       "╞══════════╪═════════════════════════════════╪═════════════════════════════════╪════════════╡\n",
       "│ 35421096 ┆ Think Python 2e                 ┆ https://greenteapress.com/wp/t… ┆ 1680517178 │\n",
       "│ 35465484 ┆ Python Programming Exercises G… ┆ https://inventwithpython.com/p… ┆ 1680767014 │\n",
       "│ 35820038 ┆ Python How Tos                  ┆ https://docs.python.org/3/howt… ┆ 1683225151 │\n",
       "└──────────┴─────────────────────────────────┴─────────────────────────────────┴────────────┘"
      ]
     },
     "execution_count": 24,
     "metadata": {},
     "output_type": "execute_result"
    }
   ],
   "source": [
    "get_closest_4(\n",
    "    lazy_vector_store=df,\n",
    "    query_embed=query_embedding,\n",
    "    k=3,\n",
    ")"
   ]
  },
  {
   "cell_type": "code",
   "execution_count": 25,
   "metadata": {},
   "outputs": [
    {
     "name": "stdout",
     "output_type": "stream",
     "text": [
      "1.31 s ± 35.5 ms per loop (mean ± std. dev. of 7 runs, 1 loop each)\n"
     ]
    }
   ],
   "source": [
    "%%timeit\n",
    "\n",
    "get_closest_4(lazy_vector_store=df, query_embed=query_embedding, k=3)"
   ]
  },
  {
   "cell_type": "markdown",
   "metadata": {},
   "source": [
    "# Method 5\n",
    "\n",
    "Compute rank and get top k by filtering (no sorting)"
   ]
  },
  {
   "cell_type": "code",
   "execution_count": null,
   "metadata": {},
   "outputs": [],
   "source": [
    "def get_closest_5(\n",
    "    lazy_vector_store: pl.LazyFrame,\n",
    "    query_embed: np.ndarray,  # noqa\n",
    "    materialized_vector_store: pl.DataFrame | None = None,  # noqa\n",
    "    filter: pl.Expr | None = None,\n",
    "    k: int = 3,\n",
    ") -> pl.DataFrame:\n",
    "    \"\"\" \"\"\"\n",
    "\n",
    "    if filter is not None:\n",
    "        lazy_vector_store = lazy_vector_store.filter(filter)\n",
    "\n",
    "    return (\n",
    "        lazy_vector_store.with_columns(\n",
    "            query=pl.lit(query_embed.reshape(-1).tolist()).cast(\n",
    "                pl.Array(pl.Float64, shape=query_embed.shape[1])\n",
    "            ),\n",
    "        )\n",
    "        .with_columns(\n",
    "            rank=np.dot(\n",
    "                pl.col(\"embedding\"),\n",
    "                pl.col(\"query\"),\n",
    "            )\n",
    "            .arr.sum()\n",
    "            .neg()\n",
    "            .rank(method=\"min\")\n",
    "        )\n",
    "        .filter(pl.col(\"rank\") <= k)\n",
    "        .select([\"id\", \"title\", \"url\", \"time\"])\n",
    "        .collect()\n",
    "    )"
   ]
  },
  {
   "cell_type": "code",
   "execution_count": 29,
   "metadata": {},
   "outputs": [
    {
     "data": {
      "text/html": [
       "<div><style>\n",
       ".dataframe > thead > tr,\n",
       ".dataframe > tbody > tr {\n",
       "  text-align: right;\n",
       "  white-space: pre-wrap;\n",
       "}\n",
       "</style>\n",
       "<small>shape: (3, 4)</small><table border=\"1\" class=\"dataframe\"><thead><tr><th>id</th><th>title</th><th>url</th><th>time</th></tr><tr><td>str</td><td>str</td><td>str</td><td>i32</td></tr></thead><tbody><tr><td>&quot;35421096&quot;</td><td>&quot;Think Python 2e&quot;</td><td>&quot;https://greenteapress.com/wp/t…</td><td>1680517178</td></tr><tr><td>&quot;35465484&quot;</td><td>&quot;Python Programming Exercises G…</td><td>&quot;https://inventwithpython.com/p…</td><td>1680767014</td></tr><tr><td>&quot;35820038&quot;</td><td>&quot;Python How Tos&quot;</td><td>&quot;https://docs.python.org/3/howt…</td><td>1683225151</td></tr></tbody></table></div>"
      ],
      "text/plain": [
       "shape: (3, 4)\n",
       "┌──────────┬─────────────────────────────────┬─────────────────────────────────┬────────────┐\n",
       "│ id       ┆ title                           ┆ url                             ┆ time       │\n",
       "│ ---      ┆ ---                             ┆ ---                             ┆ ---        │\n",
       "│ str      ┆ str                             ┆ str                             ┆ i32        │\n",
       "╞══════════╪═════════════════════════════════╪═════════════════════════════════╪════════════╡\n",
       "│ 35421096 ┆ Think Python 2e                 ┆ https://greenteapress.com/wp/t… ┆ 1680517178 │\n",
       "│ 35465484 ┆ Python Programming Exercises G… ┆ https://inventwithpython.com/p… ┆ 1680767014 │\n",
       "│ 35820038 ┆ Python How Tos                  ┆ https://docs.python.org/3/howt… ┆ 1683225151 │\n",
       "└──────────┴─────────────────────────────────┴─────────────────────────────────┴────────────┘"
      ]
     },
     "execution_count": 29,
     "metadata": {},
     "output_type": "execute_result"
    }
   ],
   "source": [
    "get_closest_5(\n",
    "    lazy_vector_store=df,\n",
    "    query_embed=query_embedding,\n",
    "    k=3,\n",
    "    filter=pl.col(\"time\") >= datetime.strptime(\"2022-01-01\", \"%Y-%m-%d\").timestamp(),\n",
    ")"
   ]
  },
  {
   "cell_type": "code",
   "execution_count": 30,
   "metadata": {},
   "outputs": [
    {
     "name": "stdout",
     "output_type": "stream",
     "text": [
      "1.29 s ± 88.9 ms per loop (mean ± std. dev. of 7 runs, 1 loop each)\n"
     ]
    }
   ],
   "source": [
    "%%timeit\n",
    "\n",
    "get_closest_5(lazy_vector_store=df, query_embed=query_embedding, k=3)"
   ]
  },
  {
   "cell_type": "code",
   "execution_count": 43,
   "metadata": {},
   "outputs": [
    {
     "name": "stdout",
     "output_type": "stream",
     "text": [
      "1.17 s ± 67.8 ms per loop (mean ± std. dev. of 7 runs, 1 loop each)\n"
     ]
    }
   ],
   "source": [
    "%%timeit\n",
    "\n",
    "get_closest_5(\n",
    "    lazy_vector_store=df,\n",
    "    query_embed=query_embedding,\n",
    "    k=3,\n",
    "    filter=pl.col(\"time\") >= datetime.strptime(\"2022-01-01\", \"%Y-%m-%d\").timestamp(),\n",
    ")"
   ]
  },
  {
   "cell_type": "markdown",
   "metadata": {},
   "source": [
    "# ChromaDB"
   ]
  },
  {
   "cell_type": "code",
   "execution_count": null,
   "metadata": {},
   "outputs": [],
   "source": [
    "%load_ext autoreload"
   ]
  },
  {
   "cell_type": "code",
   "execution_count": 37,
   "metadata": {},
   "outputs": [],
   "source": [
    "%autoreload 2\n",
    "from polars_vector_store.loader.parquet import ParquetLoader\n",
    "from polars_vector_store.chroma import ChromaDB\n",
    "from polars_vector_store.polars.numpy_based import NumpyBasedPolarsVectorStore"
   ]
  },
  {
   "cell_type": "code",
   "execution_count": 58,
   "metadata": {},
   "outputs": [],
   "source": [
    "parquet_loader = ParquetLoader(\n",
    "    path_to_file=FILE_NAME,\n",
    "    id_column_name=\"id\",\n",
    "    text_column_name=\"title\",\n",
    "    embedding_column_name=\"embedding\",\n",
    "    metadata_columns_names=[\"url\", \"time\"],\n",
    ")\n",
    "\n",
    "# parquet_loader.materialized_df = materialized_df"
   ]
  },
  {
   "cell_type": "code",
   "execution_count": 39,
   "metadata": {},
   "outputs": [],
   "source": [
    "chroma = ChromaDB()"
   ]
  },
  {
   "cell_type": "code",
   "execution_count": 28,
   "metadata": {},
   "outputs": [
    {
     "data": {
      "text/plain": [
       "{'ids': [['35820038', '35465484', '35421096']],\n",
       " 'embeddings': None,\n",
       " 'documents': [['Python How Tos',\n",
       "   'Python Programming Exercises Gently Explained',\n",
       "   'Think Python 2e']],\n",
       " 'uris': None,\n",
       " 'data': None,\n",
       " 'metadatas': [[{'time': 1683225151,\n",
       "    'url': 'https://docs.python.org/3/howto/index.html'},\n",
       "   {'time': 1680767014, 'url': 'https://inventwithpython.com/pythongently/'},\n",
       "   {'time': 1680517178,\n",
       "    'url': 'https://greenteapress.com/wp/think-python-2e/'}]],\n",
       " 'distances': [[0.9511244297027588, 0.9967623353004456, 1.0256741046905518]],\n",
       " 'included': [<IncludeEnum.distances: 'distances'>,\n",
       "  <IncludeEnum.documents: 'documents'>,\n",
       "  <IncludeEnum.metadatas: 'metadatas'>]}"
      ]
     },
     "execution_count": 28,
     "metadata": {},
     "output_type": "execute_result"
    }
   ],
   "source": [
    "chroma.similarity_search_by_vector(\n",
    "    query_embedding,\n",
    "    k=3,\n",
    "    filters={\n",
    "        \"time\": {\"$gt\": datetime.strptime(\"2022-01-01\", \"%Y-%m-%d\").timestamp()},\n",
    "    },\n",
    ")"
   ]
  },
  {
   "cell_type": "code",
   "execution_count": 29,
   "metadata": {},
   "outputs": [
    {
     "name": "stdout",
     "output_type": "stream",
     "text": [
      "4.08 ms ± 494 μs per loop (mean ± std. dev. of 7 runs, 100 loops each)\n"
     ]
    }
   ],
   "source": [
    "%%timeit\n",
    "\n",
    "chroma.similarity_search_by_vector(\n",
    "    query_embedding,\n",
    "    k=3,\n",
    ")"
   ]
  },
  {
   "cell_type": "code",
   "execution_count": 30,
   "metadata": {},
   "outputs": [
    {
     "name": "stdout",
     "output_type": "stream",
     "text": [
      "409 ms ± 32 ms per loop (mean ± std. dev. of 7 runs, 1 loop each)\n"
     ]
    }
   ],
   "source": [
    "%%timeit\n",
    "\n",
    "chroma.similarity_search_by_vector(\n",
    "    query_embedding,\n",
    "    k=3,\n",
    "    filters={\"time\": {\"$gt\": datetime.strptime(\"2022-01-01\", \"%Y-%m-%d\").timestamp()}},\n",
    ")"
   ]
  },
  {
   "cell_type": "markdown",
   "metadata": {},
   "source": [
    "---"
   ]
  },
  {
   "cell_type": "code",
   "execution_count": 51,
   "metadata": {},
   "outputs": [
    {
     "data": {
      "text/html": [
       "<div><style>\n",
       ".dataframe > thead > tr,\n",
       ".dataframe > tbody > tr {\n",
       "  text-align: right;\n",
       "  white-space: pre-wrap;\n",
       "}\n",
       "</style>\n",
       "<small>shape: (3, 4)</small><table border=\"1\" class=\"dataframe\"><thead><tr><th>id</th><th>title</th><th>url</th><th>time</th></tr><tr><td>str</td><td>str</td><td>str</td><td>i32</td></tr></thead><tbody><tr><td>&quot;35421096&quot;</td><td>&quot;Think Python 2e&quot;</td><td>&quot;https://greenteapress.com/wp/t…</td><td>1680517178</td></tr><tr><td>&quot;35465484&quot;</td><td>&quot;Python Programming Exercises G…</td><td>&quot;https://inventwithpython.com/p…</td><td>1680767014</td></tr><tr><td>&quot;35820038&quot;</td><td>&quot;Python How Tos&quot;</td><td>&quot;https://docs.python.org/3/howt…</td><td>1683225151</td></tr></tbody></table></div>"
      ],
      "text/plain": [
       "shape: (3, 4)\n",
       "┌──────────┬─────────────────────────────────┬─────────────────────────────────┬────────────┐\n",
       "│ id       ┆ title                           ┆ url                             ┆ time       │\n",
       "│ ---      ┆ ---                             ┆ ---                             ┆ ---        │\n",
       "│ str      ┆ str                             ┆ str                             ┆ i32        │\n",
       "╞══════════╪═════════════════════════════════╪═════════════════════════════════╪════════════╡\n",
       "│ 35421096 ┆ Think Python 2e                 ┆ https://greenteapress.com/wp/t… ┆ 1680517178 │\n",
       "│ 35465484 ┆ Python Programming Exercises G… ┆ https://inventwithpython.com/p… ┆ 1680767014 │\n",
       "│ 35820038 ┆ Python How Tos                  ┆ https://docs.python.org/3/howt… ┆ 1683225151 │\n",
       "└──────────┴─────────────────────────────────┴─────────────────────────────────┴────────────┘"
      ]
     },
     "execution_count": 51,
     "metadata": {},
     "output_type": "execute_result"
    }
   ],
   "source": [
    "polars_vs = NumpyBasedPolarsVectorStore.from_parquet(parquet_loader)\n",
    "\n",
    "polars_vs.similarity_search_by_vector(\n",
    "    query_embedding,\n",
    "    k=3,\n",
    ")"
   ]
  },
  {
   "cell_type": "code",
   "execution_count": null,
   "metadata": {},
   "outputs": [
    {
     "data": {
      "text/html": [
       "<div><style>\n",
       ".dataframe > thead > tr,\n",
       ".dataframe > tbody > tr {\n",
       "  text-align: right;\n",
       "  white-space: pre-wrap;\n",
       "}\n",
       "</style>\n",
       "<small>shape: (3, 4)</small><table border=\"1\" class=\"dataframe\"><thead><tr><th>id</th><th>title</th><th>url</th><th>time</th></tr><tr><td>str</td><td>str</td><td>str</td><td>i32</td></tr></thead><tbody><tr><td>&quot;35421096&quot;</td><td>&quot;Think Python 2e&quot;</td><td>&quot;https://greenteapress.com/wp/t…</td><td>1680517178</td></tr><tr><td>&quot;35465484&quot;</td><td>&quot;Python Programming Exercises G…</td><td>&quot;https://inventwithpython.com/p…</td><td>1680767014</td></tr><tr><td>&quot;35820038&quot;</td><td>&quot;Python How Tos&quot;</td><td>&quot;https://docs.python.org/3/howt…</td><td>1683225151</td></tr></tbody></table></div>"
      ],
      "text/plain": [
       "shape: (3, 4)\n",
       "┌──────────┬─────────────────────────────────┬─────────────────────────────────┬────────────┐\n",
       "│ id       ┆ title                           ┆ url                             ┆ time       │\n",
       "│ ---      ┆ ---                             ┆ ---                             ┆ ---        │\n",
       "│ str      ┆ str                             ┆ str                             ┆ i32        │\n",
       "╞══════════╪═════════════════════════════════╪═════════════════════════════════╪════════════╡\n",
       "│ 35421096 ┆ Think Python 2e                 ┆ https://greenteapress.com/wp/t… ┆ 1680517178 │\n",
       "│ 35465484 ┆ Python Programming Exercises G… ┆ https://inventwithpython.com/p… ┆ 1680767014 │\n",
       "│ 35820038 ┆ Python How Tos                  ┆ https://docs.python.org/3/howt… ┆ 1683225151 │\n",
       "└──────────┴─────────────────────────────────┴─────────────────────────────────┴────────────┘"
      ]
     },
     "execution_count": 53,
     "metadata": {},
     "output_type": "execute_result"
    }
   ],
   "source": [
    "parquet_loader.materialized_df = materialized_df\n",
    "polars_vs = NumpyBasedPolarsVectorStore.from_parquet(parquet_loader)\n",
    "\n",
    "\n",
    "polars_vs.similarity_search_by_vector(\n",
    "    query_embedding,\n",
    "    k=3,\n",
    ")"
   ]
  },
  {
   "cell_type": "code",
   "execution_count": 60,
   "metadata": {},
   "outputs": [],
   "source": [
    "# parquet_loader.materialized_df = materialized_df\n",
    "polars_vs = NumpyBasedPolarsVectorStore.from_parquet(parquet_loader)"
   ]
  },
  {
   "cell_type": "code",
   "execution_count": 56,
   "metadata": {},
   "outputs": [
    {
     "name": "stdout",
     "output_type": "stream",
     "text": [
      "39.4 ms ± 3.47 ms per loop (mean ± std. dev. of 7 runs, 10 loops each)\n"
     ]
    }
   ],
   "source": [
    "%%timeit\n",
    "\n",
    "polars_vs.similarity_search_by_vector(\n",
    "    query_embedding,\n",
    "    k=3,\n",
    ")"
   ]
  },
  {
   "cell_type": "code",
   "execution_count": 61,
   "metadata": {},
   "outputs": [
    {
     "name": "stdout",
     "output_type": "stream",
     "text": [
      "1.73 s ± 344 ms per loop (mean ± std. dev. of 7 runs, 1 loop each)\n"
     ]
    }
   ],
   "source": [
    "%%timeit\n",
    "\n",
    "polars_vs.similarity_search_by_vector(\n",
    "    query_embedding,\n",
    "    k=3,\n",
    "    filter=pl.col(\"time\") >= datetime.strptime(\"2022-01-01\", \"%Y-%m-%d\").timestamp(),\n",
    ")"
   ]
  }
 ],
 "metadata": {
  "kernelspec": {
   "display_name": ".venv",
   "language": "python",
   "name": "python3"
  },
  "language_info": {
   "codemirror_mode": {
    "name": "ipython",
    "version": 3
   },
   "file_extension": ".py",
   "mimetype": "text/x-python",
   "name": "python",
   "nbconvert_exporter": "python",
   "pygments_lexer": "ipython3",
   "version": "3.12.7"
  }
 },
 "nbformat": 4,
 "nbformat_minor": 2
}
