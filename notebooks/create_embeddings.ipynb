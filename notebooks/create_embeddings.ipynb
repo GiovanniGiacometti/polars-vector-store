{
 "cells": [
  {
   "cell_type": "code",
   "execution_count": 1,
   "metadata": {},
   "outputs": [
    {
     "name": "stdout",
     "output_type": "stream",
     "text": [
      "Current folder: c:\\Users\\giova\\Desktop\\MLCube\\Repositories\\ml3\\rag-with-polars\n"
     ]
    }
   ],
   "source": [
    "import os\n",
    "\n",
    "while \"src\" not in os.listdir():\n",
    "    os.chdir(\"..\")\n",
    "    print(f\"Current folder: {os.getcwd()}\")"
   ]
  },
  {
   "cell_type": "code",
   "execution_count": 2,
   "metadata": {},
   "outputs": [],
   "source": [
    "import requests\n",
    "from dotenv import load_dotenv\n",
    "import polars as pl\n",
    "import numpy as np"
   ]
  },
  {
   "cell_type": "code",
   "execution_count": 3,
   "metadata": {},
   "outputs": [],
   "source": [
    "load_dotenv()\n",
    "\n",
    "OPENAI_API_KEY = os.getenv(\"OPENAI_API_KEY\")\n",
    "url = \"https://api.openai.com/v1/embeddings\""
   ]
  },
  {
   "cell_type": "code",
   "execution_count": 4,
   "metadata": {},
   "outputs": [],
   "source": [
    "def compute_embeddings(\n",
    "    texts: str | list[str],\n",
    "    open_ai_model: str = \"text-embedding-3-small\",\n",
    "    normalize: bool = True,\n",
    ") -> np.ndarray:\n",
    "    \"\"\"\n",
    "    Compute embeddings for a list of texts.\n",
    "\n",
    "    Returns a numpy array of embeddings of shape\n",
    "    (len(texts), embedding_size).\n",
    "    \"\"\"\n",
    "\n",
    "    if isinstance(texts, str):\n",
    "        texts = [texts]\n",
    "\n",
    "    headers = {\n",
    "        \"Authorization\": f\"Bearer {OPENAI_API_KEY}\",\n",
    "        \"Content-Type\": \"application/json\",\n",
    "    }\n",
    "\n",
    "    payload = {\n",
    "        \"input\": texts,\n",
    "        \"model\": open_ai_model,\n",
    "        \"encoding_format\": \"float\",\n",
    "    }\n",
    "\n",
    "    # Make the POST request\n",
    "    json_response = requests.post(url, headers=headers, json=payload).json()\n",
    "\n",
    "    # Extract the embeddings\n",
    "\n",
    "    embeddings = np.array(\n",
    "        [embedding_json[\"embedding\"] for embedding_json in json_response[\"data\"]]\n",
    "    )\n",
    "\n",
    "    if normalize:\n",
    "        embeddings = embeddings / np.linalg.norm(embeddings, axis=1, keepdims=True)\n",
    "\n",
    "    return embeddings"
   ]
  },
  {
   "cell_type": "markdown",
   "metadata": {},
   "source": [
    "# Download data\n",
    "\n",
    "We'll download a dataset that contains titles and url of hacker news post. See it [here](https://huggingface.co/datasets/julien040/hacker-news-posts).\n",
    "We just load posts published after 1st April 2023, then gather 1 every 4 (around 14_000 samples)."
   ]
  },
  {
   "cell_type": "code",
   "execution_count": 19,
   "metadata": {},
   "outputs": [],
   "source": [
    "df = (\n",
    "    pl.scan_parquet(\"hf://datasets/julien040/hacker-news-posts/story.parquet\")\n",
    "    .select([\"id\", \"time\", \"title\", \"url\"])\n",
    "    .filter(pl.col(\"time\") >= 1680307200)\n",
    "    .gather_every(4)\n",
    ")"
   ]
  },
  {
   "cell_type": "code",
   "execution_count": 20,
   "metadata": {},
   "outputs": [],
   "source": [
    "materialized_df = df.collect()"
   ]
  },
  {
   "cell_type": "code",
   "execution_count": 21,
   "metadata": {},
   "outputs": [
    {
     "data": {
      "text/plain": [
       "(14272, 4)"
      ]
     },
     "execution_count": 21,
     "metadata": {},
     "output_type": "execute_result"
    }
   ],
   "source": [
    "materialized_df.shape"
   ]
  },
  {
   "cell_type": "code",
   "execution_count": null,
   "metadata": {},
   "outputs": [],
   "source": [
    "# Save data without embeddings as a checkpoint\n",
    "\n",
    "# DATA_FOLDER = \"data\"\n",
    "# DATASET_NAME = \"hacker_news\"\n",
    "# FILE_NAME = f\"{DATA_FOLDER}/{DATASET_NAME}_no_embeds.parquet\"\n",
    "\n",
    "# os.makedirs(DATA_FOLDER, exist_ok=True)\n",
    "# materialized_df.write_parquet(f\"{DATA_FOLDER}/{DATASET_NAME}.parquet\")"
   ]
  },
  {
   "cell_type": "code",
   "execution_count": 24,
   "metadata": {},
   "outputs": [],
   "source": [
    "titles = materialized_df[\"title\"].to_list()"
   ]
  },
  {
   "cell_type": "code",
   "execution_count": 31,
   "metadata": {},
   "outputs": [
    {
     "name": "stdout",
     "output_type": "stream",
     "text": [
      "Getting embeddings for batch 1...\n",
      "Getting embeddings for batch 2...\n",
      "Getting embeddings for batch 3...\n",
      "Getting embeddings for batch 4...\n",
      "Getting embeddings for batch 5...\n",
      "Getting embeddings for batch 6...\n",
      "Getting embeddings for batch 7...\n",
      "Getting embeddings for batch 8...\n",
      "Getting embeddings for batch 9...\n",
      "Getting embeddings for batch 10...\n",
      "Getting embeddings for batch 11...\n",
      "Getting embeddings for batch 12...\n",
      "Getting embeddings for batch 13...\n",
      "Getting embeddings for batch 14...\n",
      "Getting embeddings for batch 15...\n",
      "Getting embeddings for batch 16...\n",
      "Getting embeddings for batch 17...\n",
      "Getting embeddings for batch 18...\n",
      "Getting embeddings for batch 19...\n",
      "Getting embeddings for batch 20...\n",
      "Getting embeddings for batch 21...\n",
      "Getting embeddings for batch 22...\n",
      "Getting embeddings for batch 23...\n",
      "Getting embeddings for batch 24...\n",
      "Getting embeddings for batch 25...\n",
      "Getting embeddings for batch 26...\n",
      "Getting embeddings for batch 27...\n",
      "Getting embeddings for batch 28...\n",
      "Getting embeddings for batch 29...\n",
      "Getting embeddings for batch 30...\n",
      "Getting embeddings for batch 31...\n",
      "Getting embeddings for batch 32...\n",
      "Getting embeddings for batch 33...\n",
      "Getting embeddings for batch 34...\n",
      "Getting embeddings for batch 35...\n",
      "Getting embeddings for batch 36...\n",
      "Getting embeddings for batch 37...\n",
      "Getting embeddings for batch 38...\n",
      "Getting embeddings for batch 39...\n",
      "Getting embeddings for batch 40...\n",
      "Getting embeddings for batch 41...\n",
      "Getting embeddings for batch 42...\n",
      "Getting embeddings for batch 43...\n",
      "Getting embeddings for batch 44...\n",
      "Getting embeddings for batch 45...\n",
      "Getting embeddings for batch 46...\n",
      "Getting embeddings for batch 47...\n",
      "Getting embeddings for batch 48...\n",
      "Getting embeddings for batch 49...\n",
      "Getting embeddings for batch 50...\n",
      "Getting embeddings for batch 51...\n",
      "Getting embeddings for batch 52...\n",
      "Getting embeddings for batch 53...\n",
      "Getting embeddings for batch 54...\n",
      "Getting embeddings for batch 55...\n",
      "Getting embeddings for batch 56...\n",
      "Getting embeddings for batch 57...\n",
      "Getting embeddings for batch 58...\n",
      "Getting embeddings for batch 59...\n",
      "Getting embeddings for batch 60...\n",
      "Getting embeddings for batch 61...\n",
      "Getting embeddings for batch 62...\n",
      "Getting embeddings for batch 63...\n",
      "Getting embeddings for batch 64...\n",
      "Getting embeddings for batch 65...\n",
      "Getting embeddings for batch 66...\n",
      "Getting embeddings for batch 67...\n",
      "Getting embeddings for batch 68...\n",
      "Getting embeddings for batch 69...\n",
      "Getting embeddings for batch 70...\n",
      "Getting embeddings for batch 71...\n",
      "Getting embeddings for batch 72...\n",
      "Getting embeddings for batch 73...\n",
      "Getting embeddings for batch 74...\n",
      "Getting embeddings for batch 75...\n",
      "Getting embeddings for batch 76...\n",
      "Getting embeddings for batch 77...\n",
      "Getting embeddings for batch 78...\n",
      "Getting embeddings for batch 79...\n",
      "Getting embeddings for batch 80...\n",
      "Getting embeddings for batch 81...\n",
      "Getting embeddings for batch 82...\n",
      "Getting embeddings for batch 83...\n",
      "Getting embeddings for batch 84...\n",
      "Getting embeddings for batch 85...\n",
      "Getting embeddings for batch 86...\n",
      "Getting embeddings for batch 87...\n",
      "Getting embeddings for batch 88...\n",
      "Getting embeddings for batch 89...\n",
      "Getting embeddings for batch 90...\n",
      "Getting embeddings for batch 91...\n",
      "Getting embeddings for batch 92...\n",
      "Getting embeddings for batch 93...\n",
      "Getting embeddings for batch 94...\n",
      "Getting embeddings for batch 95...\n",
      "Getting embeddings for batch 96...\n",
      "Getting embeddings for batch 97...\n",
      "Getting embeddings for batch 98...\n",
      "Getting embeddings for batch 99...\n",
      "Getting embeddings for batch 100...\n",
      "Getting embeddings for batch 101...\n",
      "Getting embeddings for batch 102...\n",
      "Getting embeddings for batch 103...\n",
      "Getting embeddings for batch 104...\n",
      "Getting embeddings for batch 105...\n",
      "Getting embeddings for batch 106...\n",
      "Getting embeddings for batch 107...\n",
      "Getting embeddings for batch 108...\n",
      "Getting embeddings for batch 109...\n",
      "Getting embeddings for batch 110...\n",
      "Getting embeddings for batch 111...\n",
      "Getting embeddings for batch 112...\n",
      "Getting embeddings for batch 113...\n",
      "Getting embeddings for batch 114...\n",
      "Getting embeddings for batch 115...\n",
      "Getting embeddings for batch 116...\n",
      "Getting embeddings for batch 117...\n",
      "Getting embeddings for batch 118...\n",
      "Getting embeddings for batch 119...\n",
      "Getting embeddings for batch 120...\n",
      "Getting embeddings for batch 121...\n",
      "Getting embeddings for batch 122...\n",
      "Getting embeddings for batch 123...\n",
      "Getting embeddings for batch 124...\n",
      "Getting embeddings for batch 125...\n",
      "Getting embeddings for batch 126...\n",
      "Getting embeddings for batch 127...\n",
      "Getting embeddings for batch 128...\n",
      "Getting embeddings for batch 129...\n",
      "Getting embeddings for batch 130...\n",
      "Getting embeddings for batch 131...\n",
      "Getting embeddings for batch 132...\n",
      "Getting embeddings for batch 133...\n",
      "Getting embeddings for batch 134...\n",
      "Getting embeddings for batch 135...\n",
      "Getting embeddings for batch 136...\n",
      "Getting embeddings for batch 137...\n",
      "Getting embeddings for batch 138...\n",
      "Getting embeddings for batch 139...\n",
      "Getting embeddings for batch 140...\n",
      "Getting embeddings for batch 141...\n",
      "Getting embeddings for batch 142...\n",
      "Getting embeddings for batch 143...\n"
     ]
    }
   ],
   "source": [
    "batch_size = 100\n",
    "\n",
    "embeddings = []\n",
    "\n",
    "for i in range(0, len(titles), batch_size):\n",
    "    print(f\"Getting embeddings for batch {i // batch_size + 1}...\")\n",
    "\n",
    "    batch_titles = titles[i : i + batch_size]\n",
    "\n",
    "    batch_embeddings = compute_embeddings(batch_titles)\n",
    "\n",
    "    embeddings.append(batch_embeddings)\n",
    "\n",
    "np_embeddings = np.vstack(embeddings)"
   ]
  },
  {
   "cell_type": "code",
   "execution_count": 32,
   "metadata": {},
   "outputs": [],
   "source": [
    "df_with_embeddings = materialized_df.with_columns(embedding=np_embeddings)"
   ]
  },
  {
   "cell_type": "code",
   "execution_count": 33,
   "metadata": {},
   "outputs": [
    {
     "data": {
      "text/plain": [
       "['id', 'time', 'title', 'url', 'embedding']"
      ]
     },
     "execution_count": 33,
     "metadata": {},
     "output_type": "execute_result"
    }
   ],
   "source": [
    "df_with_embeddings.columns"
   ]
  },
  {
   "cell_type": "code",
   "execution_count": 34,
   "metadata": {},
   "outputs": [],
   "source": [
    "# Save data with embeddings\n",
    "\n",
    "DATA_FOLDER = \"data\"\n",
    "DATASET_NAME = \"hacker_news\"\n",
    "FILE_NAME = f\"{DATA_FOLDER}/{DATASET_NAME}.parquet\"\n",
    "\n",
    "os.makedirs(DATA_FOLDER, exist_ok=True)\n",
    "df_with_embeddings.write_parquet(f\"{DATA_FOLDER}/{DATASET_NAME}.parquet\")"
   ]
  }
 ],
 "metadata": {
  "kernelspec": {
   "display_name": ".venv",
   "language": "python",
   "name": "python3"
  },
  "language_info": {
   "codemirror_mode": {
    "name": "ipython",
    "version": 3
   },
   "file_extension": ".py",
   "mimetype": "text/x-python",
   "name": "python",
   "nbconvert_exporter": "python",
   "pygments_lexer": "ipython3",
   "version": "3.12.7"
  }
 },
 "nbformat": 4,
 "nbformat_minor": 2
}
