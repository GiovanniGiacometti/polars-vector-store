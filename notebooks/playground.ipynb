{
 "cells": [
  {
   "cell_type": "code",
   "execution_count": 1,
   "metadata": {},
   "outputs": [
    {
     "name": "stdout",
     "output_type": "stream",
     "text": [
      "Current folder: c:\\Users\\giova\\Desktop\\MLCube\\Repositories\\ml3\\rag-with-polars\n"
     ]
    }
   ],
   "source": [
    "import os\n",
    "\n",
    "while \"src\" not in os.listdir():\n",
    "    os.chdir(\"..\")\n",
    "    print(f\"Current folder: {os.getcwd()}\")"
   ]
  },
  {
   "cell_type": "markdown",
   "metadata": {},
   "source": [
    "# Imports"
   ]
  },
  {
   "cell_type": "code",
   "execution_count": 27,
   "metadata": {},
   "outputs": [],
   "source": [
    "import polars as pl\n",
    "import numpy as np\n",
    "from dotenv import load_dotenv\n",
    "import requests"
   ]
  },
  {
   "cell_type": "code",
   "execution_count": 28,
   "metadata": {},
   "outputs": [],
   "source": [
    "load_dotenv()\n",
    "\n",
    "OPENAI_API_KEY = os.getenv(\"OPENAI_API_KEY\")\n",
    "url = \"https://api.openai.com/v1/embeddings\""
   ]
  },
  {
   "cell_type": "code",
   "execution_count": 29,
   "metadata": {},
   "outputs": [],
   "source": [
    "def compute_embeddings(\n",
    "    texts: str | list[str],\n",
    "    open_ai_model: str = \"text-embedding-3-small\",\n",
    "    normalize: bool = True,\n",
    ") -> np.ndarray:\n",
    "    \"\"\"\n",
    "    Compute embeddings for a list of texts.\n",
    "\n",
    "    Returns a numpy array of embeddings of shape\n",
    "    (len(texts), embedding_size).\n",
    "    \"\"\"\n",
    "\n",
    "    if isinstance(texts, str):\n",
    "        texts = [texts]\n",
    "\n",
    "    headers = {\n",
    "        \"Authorization\": f\"Bearer {OPENAI_API_KEY}\",\n",
    "        \"Content-Type\": \"application/json\",\n",
    "    }\n",
    "\n",
    "    payload = {\n",
    "        \"input\": texts,\n",
    "        \"model\": open_ai_model,\n",
    "        \"encoding_format\": \"float\",\n",
    "    }\n",
    "\n",
    "    # Make the POST request\n",
    "    json_response = requests.post(url, headers=headers, json=payload).json()\n",
    "\n",
    "    # Extract the embeddings\n",
    "\n",
    "    embeddings = np.array(\n",
    "        [embedding_json[\"embedding\"] for embedding_json in json_response[\"data\"]]\n",
    "    )\n",
    "\n",
    "    if normalize:\n",
    "        embeddings = embeddings / np.linalg.norm(embeddings, axis=1, keepdims=True)\n",
    "\n",
    "    return embeddings"
   ]
  },
  {
   "cell_type": "markdown",
   "metadata": {},
   "source": [
    "# Load Data"
   ]
  },
  {
   "cell_type": "code",
   "execution_count": 21,
   "metadata": {},
   "outputs": [],
   "source": [
    "DATA_FOLDER = \"data\"\n",
    "DATASET_NAME = \"hacker_news\"\n",
    "FILE_NAME = f\"{DATA_FOLDER}/{DATASET_NAME}.parquet\""
   ]
  },
  {
   "cell_type": "code",
   "execution_count": 22,
   "metadata": {},
   "outputs": [],
   "source": [
    "df = pl.scan_parquet(FILE_NAME)"
   ]
  },
  {
   "cell_type": "code",
   "execution_count": 80,
   "metadata": {},
   "outputs": [],
   "source": [
    "materialized_df = df.collect()"
   ]
  },
  {
   "cell_type": "code",
   "execution_count": 23,
   "metadata": {},
   "outputs": [
    {
     "data": {
      "text/html": [
       "<div><style>\n",
       ".dataframe > thead > tr,\n",
       ".dataframe > tbody > tr {\n",
       "  text-align: right;\n",
       "  white-space: pre-wrap;\n",
       "}\n",
       "</style>\n",
       "<small>shape: (5, 5)</small><table border=\"1\" class=\"dataframe\"><thead><tr><th>id</th><th>time</th><th>title</th><th>url</th><th>embedding</th></tr><tr><td>i32</td><td>i32</td><td>str</td><td>str</td><td>array[f64, 1536]</td></tr></thead><tbody><tr><td>35515614</td><td>1681151391</td><td>&quot;Text-Based Tetris&quot;</td><td>&quot;https://aino.agency/game&quot;</td><td>[-0.04116, 0.038436, … 0.002007]</td></tr><tr><td>35806111</td><td>1683139428</td><td>&quot;ChatGPT can now find you a hou…</td><td>&quot;https://www.theverge.com/2023/…</td><td>[-0.033018, 0.025405, … -0.000245]</td></tr><tr><td>35911041</td><td>1683857335</td><td>&quot;Long popular in Asia, floating…</td><td>&quot;https://apnews.com/article/flo…</td><td>[-0.009536, 0.006712, … -0.000615]</td></tr><tr><td>35582623</td><td>1681579623</td><td>&quot;Sound Money Bills Moving Forwa…</td><td>&quot;https://www.soundmoneydefense.…</td><td>[0.02966, 0.003126, … 0.002368]</td></tr><tr><td>35714042</td><td>1682518719</td><td>&quot;Edge AI generates choreographi…</td><td>&quot;https://edge-dance.github.io/&quot;</td><td>[0.004581, -0.044337, … 0.003402]</td></tr></tbody></table></div>"
      ],
      "text/plain": [
       "shape: (5, 5)\n",
       "┌──────────┬────────────┬────────────────────────┬────────────────────────┬────────────────────────┐\n",
       "│ id       ┆ time       ┆ title                  ┆ url                    ┆ embedding              │\n",
       "│ ---      ┆ ---        ┆ ---                    ┆ ---                    ┆ ---                    │\n",
       "│ i32      ┆ i32        ┆ str                    ┆ str                    ┆ array[f64, 1536]       │\n",
       "╞══════════╪════════════╪════════════════════════╪════════════════════════╪════════════════════════╡\n",
       "│ 35515614 ┆ 1681151391 ┆ Text-Based Tetris      ┆ https://aino.agency/ga ┆ [-0.04116, 0.038436, … │\n",
       "│          ┆            ┆                        ┆ me                     ┆ 0.00200…               │\n",
       "│ 35806111 ┆ 1683139428 ┆ ChatGPT can now find   ┆ https://www.theverge.c ┆ [-0.033018, 0.025405,  │\n",
       "│          ┆            ┆ you a hou…             ┆ om/2023/…              ┆ … -0.000…              │\n",
       "│ 35911041 ┆ 1683857335 ┆ Long popular in Asia,  ┆ https://apnews.com/art ┆ [-0.009536, 0.006712,  │\n",
       "│          ┆            ┆ floating…              ┆ icle/flo…              ┆ … -0.000…              │\n",
       "│ 35582623 ┆ 1681579623 ┆ Sound Money Bills      ┆ https://www.soundmoney ┆ [0.02966, 0.003126, …  │\n",
       "│          ┆            ┆ Moving Forwa…          ┆ defense.…              ┆ 0.002368…              │\n",
       "│ 35714042 ┆ 1682518719 ┆ Edge AI generates      ┆ https://edge-dance.git ┆ [0.004581, -0.044337,  │\n",
       "│          ┆            ┆ choreographi…          ┆ hub.io/                ┆ … 0.0034…              │\n",
       "└──────────┴────────────┴────────────────────────┴────────────────────────┴────────────────────────┘"
      ]
     },
     "execution_count": 23,
     "metadata": {},
     "output_type": "execute_result"
    }
   ],
   "source": [
    "df.head().collect()"
   ]
  },
  {
   "cell_type": "markdown",
   "metadata": {},
   "source": [
    "df is our vector store. It has an id, the title, the url of the post, the time it was published and the embedding"
   ]
  },
  {
   "cell_type": "code",
   "execution_count": null,
   "metadata": {},
   "outputs": [],
   "source": [
    "query = \"Python\"\n",
    "query_embedding = compute_embeddings(query)"
   ]
  },
  {
   "cell_type": "markdown",
   "metadata": {},
   "source": [
    "### Method 1\n",
    "\n",
    "Inspired by the blog post. Materialize dataframe, get embedding column, and convert to numpy array and compute cosine similarity with efficient\n",
    "numpy tricks."
   ]
  },
  {
   "cell_type": "code",
   "execution_count": 89,
   "metadata": {},
   "outputs": [],
   "source": [
    "def get_closest_1(\n",
    "    lazy_vector_store: pl.LazyFrame,\n",
    "    query_embed: np.ndarray,\n",
    "    materialized_vector_store: pl.DataFrame | None = None,\n",
    "    k: int = 3,\n",
    ") -> pl.DataFrame:\n",
    "    \"\"\"\n",
    "    First method: extract embeddings column and compute\n",
    "    cosine similarity with the query embedding.\n",
    "\n",
    "    Returns the k rows with the smallest cosine similarity.\n",
    "\n",
    "    The performance of this method is heavily impacted by having\n",
    "    to materialize the dataframe. We keep that as an argument\n",
    "    so that we can test its impact.\n",
    "    Nonetheless assuming to having it already materialized is not\n",
    "    optimal since in a real-world scenario the embeddings could be\n",
    "    very large or we might want to load them on-demand (rather than\n",
    "    having them always in memory).\n",
    "    \"\"\"\n",
    "\n",
    "    # We need to materialize in order to access the embeddings column\n",
    "    if materialized_vector_store is None:\n",
    "        materialized_vector_store = lazy_vector_store.collect()\n",
    "\n",
    "    vector_store_embeds = materialized_vector_store[\"embedding\"].to_numpy()\n",
    "\n",
    "    # Compute cosine similarity.\n",
    "    # Since the embeddings are normalized, this is equivalent to the dot product.\n",
    "    cosine_similarities = np.einsum(\"ij,ij->i\", vector_store_embeds, query_embed)\n",
    "\n",
    "    # Get the indices of the k smallest cosine similarities\n",
    "    # Notice that argpartition gives no guarantee on the order\n",
    "    # of the k smallest elements, which is why we need\n",
    "    # an extra sorting step after the partitioning.\n",
    "    closest_indices = np.argpartition(cosine_similarities, -k)[-k:]\n",
    "\n",
    "    # Sort the k closest indices by cosine similarity\n",
    "    idx = closest_indices[np.argsort(cosine_similarities[closest_indices])[::-1]]\n",
    "\n",
    "    return (\n",
    "        lazy_vector_store.with_row_index()\n",
    "        .filter(pl.col(\"index\").is_in(idx))\n",
    "        .select([\"id\", \"title\", \"url\", \"time\"])\n",
    "        .collect()\n",
    "    )"
   ]
  },
  {
   "cell_type": "code",
   "execution_count": 90,
   "metadata": {},
   "outputs": [
    {
     "data": {
      "text/html": [
       "<div><style>\n",
       ".dataframe > thead > tr,\n",
       ".dataframe > tbody > tr {\n",
       "  text-align: right;\n",
       "  white-space: pre-wrap;\n",
       "}\n",
       "</style>\n",
       "<small>shape: (3, 4)</small><table border=\"1\" class=\"dataframe\"><thead><tr><th>id</th><th>title</th><th>url</th><th>time</th></tr><tr><td>i32</td><td>str</td><td>str</td><td>i32</td></tr></thead><tbody><tr><td>35421096</td><td>&quot;Think Python 2e&quot;</td><td>&quot;https://greenteapress.com/wp/t…</td><td>1680517178</td></tr><tr><td>35684659</td><td>&quot;Python Dictionaries&quot;</td><td>&quot;https://medium.com/@j_ankit/py…</td><td>1682321434</td></tr><tr><td>35465484</td><td>&quot;Python Programming Exercises G…</td><td>&quot;https://inventwithpython.com/p…</td><td>1680767014</td></tr></tbody></table></div>"
      ],
      "text/plain": [
       "shape: (3, 4)\n",
       "┌──────────┬─────────────────────────────────┬─────────────────────────────────┬────────────┐\n",
       "│ id       ┆ title                           ┆ url                             ┆ time       │\n",
       "│ ---      ┆ ---                             ┆ ---                             ┆ ---        │\n",
       "│ i32      ┆ str                             ┆ str                             ┆ i32        │\n",
       "╞══════════╪═════════════════════════════════╪═════════════════════════════════╪════════════╡\n",
       "│ 35421096 ┆ Think Python 2e                 ┆ https://greenteapress.com/wp/t… ┆ 1680517178 │\n",
       "│ 35684659 ┆ Python Dictionaries             ┆ https://medium.com/@j_ankit/py… ┆ 1682321434 │\n",
       "│ 35465484 ┆ Python Programming Exercises G… ┆ https://inventwithpython.com/p… ┆ 1680767014 │\n",
       "└──────────┴─────────────────────────────────┴─────────────────────────────────┴────────────┘"
      ]
     },
     "execution_count": 90,
     "metadata": {},
     "output_type": "execute_result"
    }
   ],
   "source": [
    "get_closest_1(lazy_vector_store=df, query_embed=query_embedding, k=3)"
   ]
  },
  {
   "cell_type": "code",
   "execution_count": 91,
   "metadata": {},
   "outputs": [
    {
     "data": {
      "text/html": [
       "<div><style>\n",
       ".dataframe > thead > tr,\n",
       ".dataframe > tbody > tr {\n",
       "  text-align: right;\n",
       "  white-space: pre-wrap;\n",
       "}\n",
       "</style>\n",
       "<small>shape: (3, 4)</small><table border=\"1\" class=\"dataframe\"><thead><tr><th>id</th><th>title</th><th>url</th><th>time</th></tr><tr><td>i32</td><td>str</td><td>str</td><td>i32</td></tr></thead><tbody><tr><td>35421096</td><td>&quot;Think Python 2e&quot;</td><td>&quot;https://greenteapress.com/wp/t…</td><td>1680517178</td></tr><tr><td>35684659</td><td>&quot;Python Dictionaries&quot;</td><td>&quot;https://medium.com/@j_ankit/py…</td><td>1682321434</td></tr><tr><td>35465484</td><td>&quot;Python Programming Exercises G…</td><td>&quot;https://inventwithpython.com/p…</td><td>1680767014</td></tr></tbody></table></div>"
      ],
      "text/plain": [
       "shape: (3, 4)\n",
       "┌──────────┬─────────────────────────────────┬─────────────────────────────────┬────────────┐\n",
       "│ id       ┆ title                           ┆ url                             ┆ time       │\n",
       "│ ---      ┆ ---                             ┆ ---                             ┆ ---        │\n",
       "│ i32      ┆ str                             ┆ str                             ┆ i32        │\n",
       "╞══════════╪═════════════════════════════════╪═════════════════════════════════╪════════════╡\n",
       "│ 35421096 ┆ Think Python 2e                 ┆ https://greenteapress.com/wp/t… ┆ 1680517178 │\n",
       "│ 35684659 ┆ Python Dictionaries             ┆ https://medium.com/@j_ankit/py… ┆ 1682321434 │\n",
       "│ 35465484 ┆ Python Programming Exercises G… ┆ https://inventwithpython.com/p… ┆ 1680767014 │\n",
       "└──────────┴─────────────────────────────────┴─────────────────────────────────┴────────────┘"
      ]
     },
     "execution_count": 91,
     "metadata": {},
     "output_type": "execute_result"
    }
   ],
   "source": [
    "get_closest_1(\n",
    "    lazy_vector_store=df,\n",
    "    query_embed=query_embedding,\n",
    "    k=3,\n",
    "    materialized_vector_store=materialized_df,\n",
    ")"
   ]
  },
  {
   "cell_type": "code",
   "execution_count": 92,
   "metadata": {},
   "outputs": [
    {
     "name": "stdout",
     "output_type": "stream",
     "text": [
      "561 ms ± 36.8 ms per loop (mean ± std. dev. of 7 runs, 1 loop each)\n"
     ]
    }
   ],
   "source": [
    "%%timeit\n",
    "\n",
    "get_closest_1(lazy_vector_store=df, query_embed=query_embedding, k=3)"
   ]
  },
  {
   "cell_type": "code",
   "execution_count": 93,
   "metadata": {},
   "outputs": [
    {
     "name": "stdout",
     "output_type": "stream",
     "text": [
      "19 ms ± 1.1 ms per loop (mean ± std. dev. of 7 runs, 10 loops each)\n"
     ]
    }
   ],
   "source": [
    "%%timeit\n",
    "\n",
    "get_closest_1(\n",
    "    lazy_vector_store=df,\n",
    "    query_embed=query_embedding,\n",
    "    k=3,\n",
    "    materialized_vector_store=materialized_df,\n",
    ")"
   ]
  },
  {
   "cell_type": "markdown",
   "metadata": {},
   "source": [
    "### Method 2\n",
    "\n"
   ]
  },
  {
   "cell_type": "code",
   "execution_count": 229,
   "metadata": {},
   "outputs": [],
   "source": [
    "def get_closest_2(\n",
    "    lazy_vector_store: pl.LazyFrame,\n",
    "    query_embed: np.ndarray,  # noqa\n",
    "    materialized_vector_store: pl.DataFrame | None = None,  # noqa\n",
    "    k: int = 3,\n",
    ") -> pl.DataFrame:\n",
    "    \"\"\" \"\"\"\n",
    "\n",
    "    return (\n",
    "        lazy_vector_store.with_columns(\n",
    "            query=pl.lit(query_embedding.reshape(-1).tolist()).cast(\n",
    "                pl.Array(pl.Float64, shape=query_embedding.shape[1])\n",
    "            ),\n",
    "        )\n",
    "        .with_columns(\n",
    "            # cosine_similarity=pl.col(\"embedding\").mul(pl.col(\"query\")).arr.sum()\n",
    "            cosine_similarity=np.dot(\n",
    "                pl.col(\"embedding\"),\n",
    "                pl.col(\"query\"),\n",
    "            ).arr.sum()\n",
    "        )\n",
    "        .sort(\"cosine_similarity\", descending=True)\n",
    "        .head(k)\n",
    "        .select([\"id\", \"title\", \"url\", \"time\"])\n",
    "        .collect()\n",
    "    )"
   ]
  },
  {
   "cell_type": "code",
   "execution_count": 230,
   "metadata": {},
   "outputs": [
    {
     "data": {
      "text/html": [
       "<div><style>\n",
       ".dataframe > thead > tr,\n",
       ".dataframe > tbody > tr {\n",
       "  text-align: right;\n",
       "  white-space: pre-wrap;\n",
       "}\n",
       "</style>\n",
       "<small>shape: (3, 4)</small><table border=\"1\" class=\"dataframe\"><thead><tr><th>id</th><th>title</th><th>url</th><th>time</th></tr><tr><td>i32</td><td>str</td><td>str</td><td>i32</td></tr></thead><tbody><tr><td>35465484</td><td>&quot;Python Programming Exercises G…</td><td>&quot;https://inventwithpython.com/p…</td><td>1680767014</td></tr><tr><td>35421096</td><td>&quot;Think Python 2e&quot;</td><td>&quot;https://greenteapress.com/wp/t…</td><td>1680517178</td></tr><tr><td>35684659</td><td>&quot;Python Dictionaries&quot;</td><td>&quot;https://medium.com/@j_ankit/py…</td><td>1682321434</td></tr></tbody></table></div>"
      ],
      "text/plain": [
       "shape: (3, 4)\n",
       "┌──────────┬─────────────────────────────────┬─────────────────────────────────┬────────────┐\n",
       "│ id       ┆ title                           ┆ url                             ┆ time       │\n",
       "│ ---      ┆ ---                             ┆ ---                             ┆ ---        │\n",
       "│ i32      ┆ str                             ┆ str                             ┆ i32        │\n",
       "╞══════════╪═════════════════════════════════╪═════════════════════════════════╪════════════╡\n",
       "│ 35465484 ┆ Python Programming Exercises G… ┆ https://inventwithpython.com/p… ┆ 1680767014 │\n",
       "│ 35421096 ┆ Think Python 2e                 ┆ https://greenteapress.com/wp/t… ┆ 1680517178 │\n",
       "│ 35684659 ┆ Python Dictionaries             ┆ https://medium.com/@j_ankit/py… ┆ 1682321434 │\n",
       "└──────────┴─────────────────────────────────┴─────────────────────────────────┴────────────┘"
      ]
     },
     "execution_count": 230,
     "metadata": {},
     "output_type": "execute_result"
    }
   ],
   "source": [
    "get_closest_2(\n",
    "    lazy_vector_store=df,\n",
    "    query_embed=query_embedding,\n",
    "    k=3,\n",
    ")"
   ]
  },
  {
   "cell_type": "code",
   "execution_count": 231,
   "metadata": {},
   "outputs": [
    {
     "name": "stdout",
     "output_type": "stream",
     "text": [
      "572 ms ± 29.2 ms per loop (mean ± std. dev. of 7 runs, 1 loop each)\n"
     ]
    }
   ],
   "source": [
    "%%timeit\n",
    "\n",
    "get_closest_2(lazy_vector_store=df, query_embed=query_embedding, k=3)"
   ]
  },
  {
   "cell_type": "markdown",
   "metadata": {},
   "source": [
    "### Method 3\n",
    "\n",
    "Remove sorting as that's what's taking the most time."
   ]
  },
  {
   "cell_type": "code",
   "execution_count": 234,
   "metadata": {},
   "outputs": [],
   "source": [
    "def get_closest_3(\n",
    "    lazy_vector_store: pl.LazyFrame,\n",
    "    query_embed: np.ndarray,  # noqa\n",
    "    materialized_vector_store: pl.DataFrame | None = None,  # noqa\n",
    "    k: int = 3,\n",
    ") -> pl.DataFrame:\n",
    "    \"\"\" \"\"\"\n",
    "\n",
    "    return (\n",
    "        lazy_vector_store.with_columns(\n",
    "            query=pl.lit(query_embedding.reshape(-1).tolist()).cast(\n",
    "                pl.Array(pl.Float64, shape=query_embedding.shape[1])\n",
    "            ),\n",
    "        )\n",
    "        .with_columns(\n",
    "            cosine_similarity=np.dot(\n",
    "                pl.col(\"embedding\"),\n",
    "                pl.col(\"query\"),\n",
    "            ).arr.sum()\n",
    "        )\n",
    "        .top_k(k, by=\"cosine_similarity\")\n",
    "        .select([\"id\", \"title\", \"url\", \"time\"])\n",
    "        .collect()\n",
    "    )"
   ]
  },
  {
   "cell_type": "code",
   "execution_count": 236,
   "metadata": {},
   "outputs": [
    {
     "data": {
      "text/html": [
       "<div><style>\n",
       ".dataframe > thead > tr,\n",
       ".dataframe > tbody > tr {\n",
       "  text-align: right;\n",
       "  white-space: pre-wrap;\n",
       "}\n",
       "</style>\n",
       "<small>shape: (3, 4)</small><table border=\"1\" class=\"dataframe\"><thead><tr><th>id</th><th>title</th><th>url</th><th>time</th></tr><tr><td>i32</td><td>str</td><td>str</td><td>i32</td></tr></thead><tbody><tr><td>35465484</td><td>&quot;Python Programming Exercises G…</td><td>&quot;https://inventwithpython.com/p…</td><td>1680767014</td></tr><tr><td>35421096</td><td>&quot;Think Python 2e&quot;</td><td>&quot;https://greenteapress.com/wp/t…</td><td>1680517178</td></tr><tr><td>35684659</td><td>&quot;Python Dictionaries&quot;</td><td>&quot;https://medium.com/@j_ankit/py…</td><td>1682321434</td></tr></tbody></table></div>"
      ],
      "text/plain": [
       "shape: (3, 4)\n",
       "┌──────────┬─────────────────────────────────┬─────────────────────────────────┬────────────┐\n",
       "│ id       ┆ title                           ┆ url                             ┆ time       │\n",
       "│ ---      ┆ ---                             ┆ ---                             ┆ ---        │\n",
       "│ i32      ┆ str                             ┆ str                             ┆ i32        │\n",
       "╞══════════╪═════════════════════════════════╪═════════════════════════════════╪════════════╡\n",
       "│ 35465484 ┆ Python Programming Exercises G… ┆ https://inventwithpython.com/p… ┆ 1680767014 │\n",
       "│ 35421096 ┆ Think Python 2e                 ┆ https://greenteapress.com/wp/t… ┆ 1680517178 │\n",
       "│ 35684659 ┆ Python Dictionaries             ┆ https://medium.com/@j_ankit/py… ┆ 1682321434 │\n",
       "└──────────┴─────────────────────────────────┴─────────────────────────────────┴────────────┘"
      ]
     },
     "execution_count": 236,
     "metadata": {},
     "output_type": "execute_result"
    }
   ],
   "source": [
    "get_closest_3(\n",
    "    lazy_vector_store=df,\n",
    "    query_embed=query_embedding,\n",
    "    k=3,\n",
    ")"
   ]
  },
  {
   "cell_type": "code",
   "execution_count": 237,
   "metadata": {},
   "outputs": [
    {
     "name": "stdout",
     "output_type": "stream",
     "text": [
      "572 ms ± 26.9 ms per loop (mean ± std. dev. of 7 runs, 1 loop each)\n"
     ]
    }
   ],
   "source": [
    "%%timeit\n",
    "\n",
    "get_closest_3(lazy_vector_store=df, query_embed=query_embedding, k=3)"
   ]
  }
 ],
 "metadata": {
  "kernelspec": {
   "display_name": ".venv",
   "language": "python",
   "name": "python3"
  },
  "language_info": {
   "codemirror_mode": {
    "name": "ipython",
    "version": 3
   },
   "file_extension": ".py",
   "mimetype": "text/x-python",
   "name": "python",
   "nbconvert_exporter": "python",
   "pygments_lexer": "ipython3",
   "version": "3.12.7"
  }
 },
 "nbformat": 4,
 "nbformat_minor": 2
}
